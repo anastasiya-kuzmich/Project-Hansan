{
 "cells": [
  {
   "attachments": {},
   "cell_type": "markdown",
   "metadata": {},
   "source": [
    "# Data Compilation"
   ]
  },
  {
   "cell_type": "code",
   "execution_count": 33,
   "metadata": {},
   "outputs": [],
   "source": [
    "import numpy as np\n",
    "import scipy.stats as stats\n",
    "import seaborn as sns\n",
    "import matplotlib.pyplot as plt\n",
    "import pandas as pd\n",
    "import requests\n",
    "from bs4 import BeautifulSoup\n",
    "\n",
    "import pprintpp\n",
    "pp = pprintpp.PrettyPrinter(indent=4)\n",
    "\n",
    "plt.style.use('ggplot')\n",
    "\n",
    "%config InlineBackend.figure_format = 'retina'\n",
    "%matplotlib inline"
   ]
  },
  {
   "cell_type": "code",
   "execution_count": 34,
   "metadata": {},
   "outputs": [],
   "source": [
    "gpt_data = pd.read_pickle(\"cleaned_members_gpt.pkl\")\n",
    "members_data = pd.read_pickle(\"cleaned_members_gov_uk.pkl\")\n",
    "votes_data = pd.read_pickle(\"cleaned_votes.pkl\")"
   ]
  },
  {
   "cell_type": "code",
   "execution_count": 35,
   "metadata": {},
   "outputs": [
    {
     "name": "stdout",
     "output_type": "stream",
     "text": [
      "<class 'pandas.core.frame.DataFrame'>\n",
      "Int64Index: 4521 entries, 0 to 4520\n",
      "Data columns (total 21 columns):\n",
      " #   Column                       Non-Null Count  Dtype \n",
      "---  ------                       --------------  ----- \n",
      " 0   id                           4521 non-null   int64 \n",
      " 1   display_name                 4521 non-null   object\n",
      " 2   full_title                   4521 non-null   object\n",
      " 3   gender                       4521 non-null   object\n",
      " 4   member_from                  4521 non-null   object\n",
      " 5   member_house                 4521 non-null   int64 \n",
      " 6   membership_end_reason        4521 non-null   object\n",
      " 7   membership_status            4521 non-null   object\n",
      " 8   party                        4521 non-null   object\n",
      " 9   party_is_lords_main          4521 non-null   object\n",
      " 10  party_is_lords_spiritual     4521 non-null   object\n",
      " 11  party_is_independent         4521 non-null   object\n",
      " 12  membership_duration_in_days  4521 non-null   int64 \n",
      " 13  member_since                 4521 non-null   int64 \n",
      " 14  member_till                  4521 non-null   int64 \n",
      " 15  went_private_school_gpt      4521 non-null   object\n",
      " 16  is_from_gpt                  4521 non-null   object\n",
      " 17  ethnicity_gpt                4521 non-null   object\n",
      " 18  is_part_of_lgbtq_gpt         4521 non-null   object\n",
      " 19  said_something_racist_gpt    4521 non-null   object\n",
      " 20  said_something_sexist_gpt    4521 non-null   object\n",
      "dtypes: int64(5), object(16)\n",
      "memory usage: 777.0+ KB\n"
     ]
    }
   ],
   "source": [
    "gpt_data = gpt_data.add_suffix('_gpt')\n",
    "gpt_data = gpt_data.rename(columns={\"id_gpt\": \"id\"})\n",
    "del gpt_data[\"full_title_gpt\"]\n",
    "\n",
    "members_merged = pd.merge(members_data, gpt_data, on='id', how='inner')\n",
    "members_merged.info()"
   ]
  },
  {
   "cell_type": "code",
   "execution_count": 36,
   "metadata": {},
   "outputs": [
    {
     "name": "stdout",
     "output_type": "stream",
     "text": [
      "<class 'pandas.core.frame.DataFrame'>\n",
      "Int64Index: 111692 entries, 0 to 111691\n",
      "Data columns (total 29 columns):\n",
      " #   Column                       Non-Null Count   Dtype         \n",
      "---  ------                       --------------   -----         \n",
      " 0   id                           111692 non-null  object        \n",
      " 1   vote_title                   111692 non-null  object        \n",
      " 2   vote_date                    111692 non-null  datetime64[ns]\n",
      " 3   aye_count                    111692 non-null  object        \n",
      " 4   no_count                     111692 non-null  object        \n",
      " 5   member_voted_aye             111692 non-null  object        \n",
      " 6   vote_year                    111692 non-null  int64         \n",
      " 7   vote_id                      111692 non-null  int64         \n",
      " 8   vote_outcome                 111692 non-null  int64         \n",
      " 9   display_name                 111692 non-null  object        \n",
      " 10  full_title                   111692 non-null  object        \n",
      " 11  gender                       111692 non-null  object        \n",
      " 12  member_from                  111692 non-null  object        \n",
      " 13  member_house                 111692 non-null  int64         \n",
      " 14  membership_end_reason        111692 non-null  object        \n",
      " 15  membership_status            111692 non-null  object        \n",
      " 16  party                        111692 non-null  object        \n",
      " 17  party_is_lords_main          111692 non-null  object        \n",
      " 18  party_is_lords_spiritual     111692 non-null  object        \n",
      " 19  party_is_independent         111692 non-null  object        \n",
      " 20  membership_duration_in_days  111692 non-null  int64         \n",
      " 21  member_since                 111692 non-null  int64         \n",
      " 22  member_till                  111692 non-null  int64         \n",
      " 23  went_private_school_gpt      111692 non-null  object        \n",
      " 24  is_from_gpt                  111692 non-null  object        \n",
      " 25  ethnicity_gpt                111692 non-null  object        \n",
      " 26  is_part_of_lgbtq_gpt         111692 non-null  object        \n",
      " 27  said_something_racist_gpt    111692 non-null  object        \n",
      " 28  said_something_sexist_gpt    111692 non-null  object        \n",
      "dtypes: datetime64[ns](1), int64(7), object(21)\n",
      "memory usage: 25.6+ MB\n"
     ]
    }
   ],
   "source": [
    "votes_data = votes_data.rename(columns={\"member_id\": \"id\"})\n",
    "votes_and_members = pd.merge(votes_data, merged, on='id', how='inner')\n",
    "votes_and_members.info()"
   ]
  },
  {
   "cell_type": "code",
   "execution_count": 37,
   "metadata": {},
   "outputs": [
    {
     "data": {
      "text/plain": [
       "array(['Debbie Abrahams', 'Mike Amesbury', 'Stuart Andrew',\n",
       "       'Tonia Antoniazzi', 'Mr Steve Baker', 'Margaret Beckett',\n",
       "       'Andrew Bingham', 'Crispin Blunt', 'Nick Boles', 'Mr Peter Bone',\n",
       "       'Tom Brake', 'Deidre Brock', 'Alan Brown', 'Richard Burden',\n",
       "       'Sir Simon Burns', 'Liam Byrne', 'Baroness Chapman of Darlington',\n",
       "       'Joanna Cherry', 'Rehman Chishti', 'Feryal Clark',\n",
       "       'Brendan Clarke-Smith', 'Sir Geoffrey Clifton-Brown', 'John Cryer',\n",
       "       'Nic Dakin', 'David T C Davies', 'Lord Davies of Gower',\n",
       "       'Mr David Davis', 'Mr Tanmanjeet Singh Dhesi',\n",
       "       'Dame Caroline Dinenage', 'Anneliese Dodds', 'Michelle Donelan',\n",
       "       'Jackie Doyle-Price', 'Richard Drax', 'Sir Iain Duncan Smith',\n",
       "       'Jane Ellison', 'Paul Farrelly', 'Tim Farron', 'Marion Fellows',\n",
       "       'Anna Firth', 'Stephen Flynn', 'Gill Furniss', 'Sir Roger Gale',\n",
       "       'Lord Garnier', 'Stephen Gethins', 'Patricia Gibson',\n",
       "       'Lord Goldsmith of Richmond Park', 'Peter Grant', 'Ben Gummer',\n",
       "       'Andrew Gwynne', 'Fabian Hamilton', 'Greg Hands', 'David Hanson',\n",
       "       'Lord Haselhurst', 'Sir John Hayes', 'Baroness Hayman of Ullock',\n",
       "       'Lady Hermon', 'Wera Hobhouse', 'Kelvin Hopkins', 'Kris Hopkins',\n",
       "       'Mr Alister Jack', 'Sir Bernard Jenkin', 'Boris Johnson',\n",
       "       'Dame Diana Johnson', 'Gareth Johnson', 'Graham P Jones',\n",
       "       'Afzal Khan', 'Simon Kirby', 'Mr Chris Leslie', 'Mr Jonathan Lord',\n",
       "       'Caroline Lucas', 'Angus Brendan MacNeil', 'Shabana Mahmood',\n",
       "       'Alan Mak', 'Lord Mann', 'Scott Mann'], dtype=object)"
      ]
     },
     "execution_count": 37,
     "metadata": {},
     "output_type": "execute_result"
    }
   ],
   "source": [
    "votes_and_members.display_name.unique()"
   ]
  },
  {
   "cell_type": "markdown",
   "metadata": {},
   "source": [
    "💡 Very limited dataset overall... will save but needs to be discussed with the team."
   ]
  },
  {
   "cell_type": "code",
   "execution_count": 38,
   "metadata": {},
   "outputs": [],
   "source": [
    "votes_and_members.to_pickle(\"COMPILED_votes_and_members.pkl\")"
   ]
  },
  {
   "cell_type": "code",
   "execution_count": null,
   "metadata": {},
   "outputs": [],
   "source": []
  }
 ],
 "metadata": {
  "kernelspec": {
   "display_name": "Python 3",
   "language": "python",
   "name": "python3"
  },
  "language_info": {
   "codemirror_mode": {
    "name": "ipython",
    "version": 3
   },
   "file_extension": ".py",
   "mimetype": "text/x-python",
   "name": "python",
   "nbconvert_exporter": "python",
   "pygments_lexer": "ipython3",
   "version": "3.11.2"
  },
  "orig_nbformat": 4
 },
 "nbformat": 4,
 "nbformat_minor": 2
}
