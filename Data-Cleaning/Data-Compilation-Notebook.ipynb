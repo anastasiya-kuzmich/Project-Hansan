{
 "cells": [
  {
   "attachments": {},
   "cell_type": "markdown",
   "metadata": {},
   "source": [
    "# Data Compilation"
   ]
  },
  {
   "cell_type": "code",
   "execution_count": 79,
   "metadata": {},
   "outputs": [],
   "source": [
    "import numpy as np\n",
    "import scipy.stats as stats\n",
    "import seaborn as sns\n",
    "import matplotlib.pyplot as plt\n",
    "import pandas as pd\n",
    "import requests\n",
    "from bs4 import BeautifulSoup\n",
    "\n",
    "import pprintpp\n",
    "pp = pprintpp.PrettyPrinter(indent=4)\n",
    "\n",
    "plt.style.use('ggplot')\n",
    "\n",
    "%config InlineBackend.figure_format = 'retina'\n",
    "%matplotlib inline"
   ]
  },
  {
   "cell_type": "code",
   "execution_count": 80,
   "metadata": {},
   "outputs": [],
   "source": [
    "gpt_data = pd.read_pickle(\"cleaned_members_gpt.pkl\")\n",
    "members_data = pd.read_pickle(\"cleaned_members_gov_uk.pkl\")\n",
    "votes_data = pd.read_pickle(\"cleaned_votes.pkl\")"
   ]
  },
  {
   "cell_type": "code",
   "execution_count": 81,
   "metadata": {},
   "outputs": [
    {
     "name": "stdout",
     "output_type": "stream",
     "text": [
      "<class 'pandas.core.frame.DataFrame'>\n",
      "Int64Index: 4521 entries, 0 to 4520\n",
      "Data columns (total 21 columns):\n",
      " #   Column                       Non-Null Count  Dtype \n",
      "---  ------                       --------------  ----- \n",
      " 0   id                           4521 non-null   int64 \n",
      " 1   display_name                 4521 non-null   object\n",
      " 2   full_title                   4521 non-null   object\n",
      " 3   gender                       4521 non-null   object\n",
      " 4   member_from                  4521 non-null   object\n",
      " 5   member_house                 4521 non-null   int64 \n",
      " 6   membership_end_reason        4521 non-null   object\n",
      " 7   membership_status            4521 non-null   object\n",
      " 8   party                        4521 non-null   object\n",
      " 9   party_is_lords_main          4521 non-null   object\n",
      " 10  party_is_lords_spiritual     4521 non-null   object\n",
      " 11  party_is_independent         4521 non-null   object\n",
      " 12  membership_duration_in_days  4521 non-null   int64 \n",
      " 13  member_since                 4521 non-null   int64 \n",
      " 14  member_till                  4521 non-null   int64 \n",
      " 15  went_private_school_gpt      4521 non-null   object\n",
      " 16  is_from_gpt                  4521 non-null   object\n",
      " 17  ethnicity_gpt                4521 non-null   object\n",
      " 18  is_part_of_lgbtq_gpt         4521 non-null   object\n",
      " 19  said_something_racist_gpt    4521 non-null   object\n",
      " 20  said_something_sexist_gpt    4521 non-null   object\n",
      "dtypes: int64(5), object(16)\n",
      "memory usage: 777.0+ KB\n"
     ]
    }
   ],
   "source": [
    "gpt_data = gpt_data.add_suffix('_gpt')\n",
    "gpt_data = gpt_data.rename(columns={\"id_gpt\": \"id\"})\n",
    "del gpt_data[\"full_title_gpt\"]\n",
    "\n",
    "members_merged = pd.merge(members_data, gpt_data, on='id', how='inner')\n",
    "members_merged.info()"
   ]
  },
  {
   "cell_type": "code",
   "execution_count": 82,
   "metadata": {},
   "outputs": [
    {
     "name": "stdout",
     "output_type": "stream",
     "text": [
      "<class 'pandas.core.frame.DataFrame'>\n",
      "Int64Index: 731141 entries, 0 to 731140\n",
      "Data columns (total 29 columns):\n",
      " #   Column                       Non-Null Count   Dtype         \n",
      "---  ------                       --------------   -----         \n",
      " 0   id                           731141 non-null  object        \n",
      " 1   vote_title                   731141 non-null  object        \n",
      " 2   vote_date                    731141 non-null  datetime64[ns]\n",
      " 3   aye_count                    731141 non-null  object        \n",
      " 4   no_count                     731141 non-null  object        \n",
      " 5   member_voted_aye             731141 non-null  object        \n",
      " 6   vote_year                    731141 non-null  int64         \n",
      " 7   vote_id                      731141 non-null  int64         \n",
      " 8   vote_outcome                 731141 non-null  int64         \n",
      " 9   display_name                 731141 non-null  object        \n",
      " 10  full_title                   731141 non-null  object        \n",
      " 11  gender                       731141 non-null  object        \n",
      " 12  member_from                  731141 non-null  object        \n",
      " 13  member_house                 731141 non-null  int64         \n",
      " 14  membership_end_reason        731141 non-null  object        \n",
      " 15  membership_status            731141 non-null  object        \n",
      " 16  party                        731141 non-null  object        \n",
      " 17  party_is_lords_main          731141 non-null  object        \n",
      " 18  party_is_lords_spiritual     731141 non-null  object        \n",
      " 19  party_is_independent         731141 non-null  object        \n",
      " 20  membership_duration_in_days  731141 non-null  int64         \n",
      " 21  member_since                 731141 non-null  int64         \n",
      " 22  member_till                  731141 non-null  int64         \n",
      " 23  went_private_school_gpt      731141 non-null  object        \n",
      " 24  is_from_gpt                  731141 non-null  object        \n",
      " 25  ethnicity_gpt                731141 non-null  object        \n",
      " 26  is_part_of_lgbtq_gpt         731141 non-null  object        \n",
      " 27  said_something_racist_gpt    731141 non-null  object        \n",
      " 28  said_something_sexist_gpt    731141 non-null  object        \n",
      "dtypes: datetime64[ns](1), int64(7), object(21)\n",
      "memory usage: 167.3+ MB\n"
     ]
    }
   ],
   "source": [
    "votes_data = votes_data.rename(columns={\"member_id\": \"id\"})\n",
    "votes_and_members = pd.merge(votes_data, members_merged, on='id', how='inner')\n",
    "votes_and_members.info()"
   ]
  },
  {
   "cell_type": "markdown",
   "metadata": {},
   "source": [
    "## Basic EDA"
   ]
  },
  {
   "cell_type": "code",
   "execution_count": 83,
   "metadata": {},
   "outputs": [
    {
     "data": {
      "text/plain": [
       "False    731141\n",
       "dtype: int64"
      ]
     },
     "execution_count": 83,
     "metadata": {},
     "output_type": "execute_result"
    }
   ],
   "source": [
    "votes_and_members.duplicated().value_counts()"
   ]
  },
  {
   "cell_type": "markdown",
   "metadata": {},
   "source": [
    "Each row is unique - great!"
   ]
  },
  {
   "cell_type": "code",
   "execution_count": 84,
   "metadata": {},
   "outputs": [
    {
     "name": "stdout",
     "output_type": "stream",
     "text": [
      "There is information on the voting patterns of 899 members in the complete dataset\n",
      "There is 1450 unique votes in total\n",
      "These votes span 8 years, ranging from 2016 to 2023\n"
     ]
    }
   ],
   "source": [
    "print(\"There is information on the voting patterns of\", len(votes_and_members.display_name.unique()), \"members in the complete dataset\")\n",
    "print(\"There is\", len(votes_and_members.vote_title.unique()), \"unique votes in total\")\n",
    "print(\"These votes span\", len(votes_and_members.vote_year.unique()), \"years, ranging from\", votes_and_members.vote_year.min(), \"to\", votes_and_members.vote_year.max())"
   ]
  },
  {
   "cell_type": "code",
   "execution_count": 85,
   "metadata": {},
   "outputs": [
    {
     "data": {
      "text/plain": [
       "0    0.526437\n",
       "1    0.473563\n",
       "Name: vote_outcome, dtype: float64"
      ]
     },
     "execution_count": 85,
     "metadata": {},
     "output_type": "execute_result"
    }
   ],
   "source": [
    "votes_and_members.vote_outcome.value_counts(normalize=True)"
   ]
  },
  {
   "attachments": {},
   "cell_type": "markdown",
   "metadata": {},
   "source": [
    "The distribution of total \"yay\"'s vs \"no\"'s is pretty close, which will be good for modelling..."
   ]
  },
  {
   "cell_type": "code",
   "execution_count": 86,
   "metadata": {},
   "outputs": [
    {
     "data": {
      "text/plain": [
       "1    0.978617\n",
       "2    0.021383\n",
       "Name: member_house, dtype: float64"
      ]
     },
     "execution_count": 86,
     "metadata": {},
     "output_type": "execute_result"
    }
   ],
   "source": [
    "votes_and_members.member_house.value_counts(normalize=True)"
   ]
  },
  {
   "attachments": {},
   "cell_type": "markdown",
   "metadata": {},
   "source": [
    "97% of our members are from the House of Commons, which makes sense because that's the house that the voting data comes from... "
   ]
  },
  {
   "cell_type": "code",
   "execution_count": 87,
   "metadata": {},
   "outputs": [
    {
     "data": {
      "text/plain": [
       "M    0.681163\n",
       "F    0.318837\n",
       "Name: gender, dtype: float64"
      ]
     },
     "execution_count": 87,
     "metadata": {},
     "output_type": "execute_result"
    }
   ],
   "source": [
    "votes_and_members.gender.value_counts(normalize=True)"
   ]
  },
  {
   "attachments": {},
   "cell_type": "markdown",
   "metadata": {},
   "source": [
    "32% of the voting data came from female members, 68% came from male members. "
   ]
  },
  {
   "cell_type": "code",
   "execution_count": 88,
   "metadata": {},
   "outputs": [
    {
     "name": "stdout",
     "output_type": "stream",
     "text": [
      "Our members come from 644 constituencies, and 16 different parties.\n"
     ]
    }
   ],
   "source": [
    "print(\"Our members come from\", len(votes_and_members.member_from.unique()), \"constituencies, and\", len(votes_and_members.party.unique()), \"different parties.\")"
   ]
  },
  {
   "cell_type": "code",
   "execution_count": 89,
   "metadata": {},
   "outputs": [
    {
     "name": "stdout",
     "output_type": "stream",
     "text": [
      "The party distribution:\n",
      " Conservative                        0.554089\n",
      "Labour                              0.266594\n",
      "Scottish National Party             0.054578\n",
      "Labour (Co-op)                      0.038790\n",
      "Independent                         0.034390\n",
      "Liberal Democrat                    0.022946\n",
      "Democratic Unionist Party           0.011773\n",
      "Plaid Cymru                         0.004415\n",
      "The Independent Group for Change    0.003467\n",
      "Non-affiliated                      0.001972\n",
      "Social Democratic & Labour Party    0.001796\n",
      "Green Party                         0.001682\n",
      "Crossbench                          0.001308\n",
      "Alba Party                          0.000930\n",
      "Alliance                            0.000810\n",
      "Ulster Unionist Party               0.000460\n",
      "Name: party, dtype: float64\n"
     ]
    }
   ],
   "source": [
    "print(\"The party distribution:\\n\", votes_and_members.party.value_counts(normalize=True))"
   ]
  },
  {
   "cell_type": "code",
   "execution_count": 90,
   "metadata": {},
   "outputs": [
    {
     "name": "stdout",
     "output_type": "stream",
     "text": [
      "Membership duration distribution: \n"
     ]
    },
    {
     "data": {
      "image/png": "[encoded data removed]",
      "text/plain": [
       "<Figure size 500x500 with 1 Axes>"
      ]
     },
     "metadata": {
      "image/png": {
       "height": 489,
       "width": 488
      }
     },
     "output_type": "display_data"
    }
   ],
   "source": [
    "print(\"Membership duration distribution: \")\n",
    "votes_and_members.membership_duration_in_days.unique()\n",
    "sns.displot(votes_and_members.membership_duration_in_days.unique());"
   ]
  },
  {
   "cell_type": "code",
   "execution_count": 91,
   "metadata": {},
   "outputs": [
    {
     "name": "stdout",
     "output_type": "stream",
     "text": [
      "According to ChatGPT, the distribution of whether our members went to private school is as follows:\n",
      " 0    0.709979\n",
      "1    0.288537\n",
      "2    0.001484\n",
      "Name: went_private_school_gpt, dtype: float64\n"
     ]
    }
   ],
   "source": [
    "print(\"According to ChatGPT, the distribution of whether our members went to private school is as follows:\\n\", votes_and_members.went_private_school_gpt.value_counts(normalize=True))"
   ]
  },
  {
   "cell_type": "code",
   "execution_count": 92,
   "metadata": {},
   "outputs": [
    {
     "name": "stdout",
     "output_type": "stream",
     "text": [
      "According to ChatGPT, the proportion of our members being members of the LGBTQ+ community is as follows:\n",
      " 0    0.996148\n",
      "1    0.003852\n",
      "Name: is_part_of_lgbtq_gpt, dtype: float64\n"
     ]
    }
   ],
   "source": [
    "print(\"According to ChatGPT, the proportion of our members being members of the LGBTQ+ community is as follows:\\n\", votes_and_members.is_part_of_lgbtq_gpt.value_counts(normalize=True))"
   ]
  },
  {
   "cell_type": "code",
   "execution_count": 93,
   "metadata": {},
   "outputs": [
    {
     "name": "stdout",
     "output_type": "stream",
     "text": [
      "According to ChatGPT, our members ethnicities are as follows:\n",
      " White                                  0.788175\n",
      "MixedOrMultipleEthnic groups           0.089483\n",
      "AsianOrAsianBritish                    0.066530\n",
      "BlackBlackBritishCaribbeanOrAfrican    0.032773\n",
      "OtherEthnicGroup                       0.016466\n",
      "NA                                     0.006572\n",
      "Name: ethnicity_gpt, dtype: float64\n"
     ]
    }
   ],
   "source": [
    "print(\"According to ChatGPT, our members ethnicities are as follows:\\n\", votes_and_members.ethnicity_gpt.value_counts(normalize=True))"
   ]
  },
  {
   "cell_type": "code",
   "execution_count": 94,
   "metadata": {},
   "outputs": [
    {
     "name": "stdout",
     "output_type": "stream",
     "text": [
      "According to ChatGPT, our members are from:\n",
      " EnglandSouth       0.395694\n",
      "EnglandNorth       0.276721\n",
      "EnglandMidlands    0.157587\n",
      "Scotland           0.080614\n",
      "Wales              0.052335\n",
      "NorthernIreland    0.018120\n",
      "Abroad             0.017812\n",
      "NA                 0.001119\n",
      "Name: is_from_gpt, dtype: float64\n"
     ]
    }
   ],
   "source": [
    "print(\"According to ChatGPT, our members are from:\\n\", votes_and_members.is_from_gpt.value_counts(normalize=True))"
   ]
  },
  {
   "cell_type": "code",
   "execution_count": 95,
   "metadata": {},
   "outputs": [
    {
     "name": "stdout",
     "output_type": "stream",
     "text": [
      "According to ChatGPT, the proportions of our members having publically been racist are:\n",
      " 0    0.985725\n",
      "2    0.010123\n",
      "1    0.004152\n",
      "Name: said_something_racist_gpt, dtype: float64\n"
     ]
    }
   ],
   "source": [
    "print(\"According to ChatGPT, the proportions of our members having publically been racist are:\\n\", votes_and_members.said_something_racist_gpt.value_counts(normalize=True))"
   ]
  },
  {
   "cell_type": "code",
   "execution_count": 96,
   "metadata": {},
   "outputs": [
    {
     "name": "stdout",
     "output_type": "stream",
     "text": [
      "According to ChatGPT, the proportions of our members having publically been racist are:\n",
      "\n",
      " 0    0.965343\n",
      "2    0.023459\n",
      "1    0.011198\n",
      "Name: said_something_sexist_gpt, dtype: float64\n"
     ]
    }
   ],
   "source": [
    "print(\"According to ChatGPT, the proportions of our members having publically been racist are:\\n\\n\", votes_and_members.said_something_sexist_gpt.value_counts(normalize=True))"
   ]
  },
  {
   "cell_type": "markdown",
   "metadata": {},
   "source": [
    "# Saving the compiled dataset"
   ]
  },
  {
   "cell_type": "code",
   "execution_count": 97,
   "metadata": {},
   "outputs": [],
   "source": [
    "votes_and_members.to_pickle(\"COMPILED_votes_and_members.pkl\")"
   ]
  }
 ],
 "metadata": {
  "kernelspec": {
   "display_name": "Python 3",
   "language": "python",
   "name": "python3"
  },
  "language_info": {
   "codemirror_mode": {
    "name": "ipython",
    "version": 3
   },
   "file_extension": ".py",
   "mimetype": "text/x-python",
   "name": "python",
   "nbconvert_exporter": "python",
   "pygments_lexer": "ipython3",
   "version": "3.11.2"
  },
  "orig_nbformat": 4
 },
 "nbformat": 4,
 "nbformat_minor": 2
}
