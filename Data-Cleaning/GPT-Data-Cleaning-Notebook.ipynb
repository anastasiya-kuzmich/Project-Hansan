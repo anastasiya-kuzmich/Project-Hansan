{
 "cells": [
  {
   "cell_type": "markdown",
   "metadata": {},
   "source": [
    "# GPT Data Collection"
   ]
  },
  {
   "cell_type": "code",
   "execution_count": 1,
   "metadata": {},
   "outputs": [],
   "source": [
    "import numpy as np\n",
    "import scipy.stats as stats\n",
    "import seaborn as sns\n",
    "import matplotlib.pyplot as plt\n",
    "import pandas as pd\n",
    "import requests\n",
    "from bs4 import BeautifulSoup\n",
    "\n",
    "import pprintpp\n",
    "pp = pprintpp.PrettyPrinter(indent=4)\n",
    "\n",
    "plt.style.use('ggplot')\n",
    "\n",
    "%config InlineBackend.figure_format = 'retina'\n",
    "%matplotlib inline"
   ]
  },
  {
   "cell_type": "code",
   "execution_count": 55,
   "metadata": {},
   "outputs": [
    {
     "name": "stdout",
     "output_type": "stream",
     "text": [
      "<class 'pandas.core.frame.DataFrame'>\n",
      "RangeIndex: 4425 entries, 0 to 4424\n",
      "Data columns (total 7 columns):\n",
      " #   Column                 Non-Null Count  Dtype \n",
      "---  ------                 --------------  ----- \n",
      " 0   member                 4425 non-null   object\n",
      " 1   said_something_racist  4425 non-null   object\n",
      " 2   went_private_school    4425 non-null   object\n",
      " 3   said_something_sexist  4425 non-null   object\n",
      " 4   is_part_of_lgbtq       4425 non-null   object\n",
      " 5   ethnicity              4425 non-null   object\n",
      " 6   is_from                4425 non-null   object\n",
      "dtypes: object(7)\n",
      "memory usage: 242.1+ KB\n"
     ]
    }
   ],
   "source": [
    "members_gpt = pd.read_pickle(\"../Data-Acquisition/members_gpt.pkl\")\n",
    "members_gpt.info()"
   ]
  },
  {
   "cell_type": "markdown",
   "metadata": {},
   "source": [
    "# Adding a members id column"
   ]
  },
  {
   "cell_type": "code",
   "execution_count": 56,
   "metadata": {},
   "outputs": [
    {
     "name": "stdout",
     "output_type": "stream",
     "text": [
      "<class 'pandas.core.frame.DataFrame'>\n",
      "RangeIndex: 4763 entries, 0 to 4762\n",
      "Data columns (total 2 columns):\n",
      " #   Column      Non-Null Count  Dtype \n",
      "---  ------      --------------  ----- \n",
      " 0   id          4763 non-null   int64 \n",
      " 1   full_title  4763 non-null   object\n",
      "dtypes: int64(1), object(1)\n",
      "memory usage: 74.6+ KB\n"
     ]
    }
   ],
   "source": [
    "members = pd.read_pickle(\"../Data-Acquisition/members.pkl\")\n",
    "members_gpt = members_gpt.rename(columns={\"member\": \"full_title\"})\n",
    "members = members[[\"id\", \"full_title\"]]\n",
    "members.info()"
   ]
  },
  {
   "cell_type": "code",
   "execution_count": 60,
   "metadata": {},
   "outputs": [
    {
     "name": "stdout",
     "output_type": "stream",
     "text": [
      "<class 'pandas.core.frame.DataFrame'>\n",
      "Int64Index: 4670 entries, 0 to 4669\n",
      "Data columns (total 8 columns):\n",
      " #   Column                 Non-Null Count  Dtype \n",
      "---  ------                 --------------  ----- \n",
      " 0   full_title             4670 non-null   object\n",
      " 1   said_something_racist  4670 non-null   object\n",
      " 2   went_private_school    4670 non-null   object\n",
      " 3   said_something_sexist  4670 non-null   object\n",
      " 4   is_part_of_lgbtq       4670 non-null   object\n",
      " 5   ethnicity              4670 non-null   object\n",
      " 6   is_from                4670 non-null   object\n",
      " 7   id                     4670 non-null   int64 \n",
      "dtypes: int64(1), object(7)\n",
      "memory usage: 328.4+ KB\n"
     ]
    }
   ],
   "source": [
    "inner_merged = pd.merge(members_gpt, members, on=\"full_title\").info()"
   ]
  },
  {
   "cell_type": "code",
   "execution_count": null,
   "metadata": {},
   "outputs": [],
   "source": [
    "test"
   ]
  }
 ],
 "metadata": {
  "kernelspec": {
   "display_name": "Python 3",
   "language": "python",
   "name": "python3"
  },
  "language_info": {
   "codemirror_mode": {
    "name": "ipython",
    "version": 3
   },
   "file_extension": ".py",
   "mimetype": "text/x-python",
   "name": "python",
   "nbconvert_exporter": "python",
   "pygments_lexer": "ipython3",
   "version": "3.11.2"
  },
  "orig_nbformat": 4
 },
 "nbformat": 4,
 "nbformat_minor": 2
}
