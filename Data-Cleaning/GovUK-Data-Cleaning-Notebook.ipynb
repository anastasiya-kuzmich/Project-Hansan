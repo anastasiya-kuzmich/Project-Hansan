{
 "cells": [
  {
   "attachments": {},
   "cell_type": "markdown",
   "metadata": {},
   "source": [
    "# Gov.uk Data Cleaning"
   ]
  },
  {
   "cell_type": "code",
   "execution_count": 2,
   "metadata": {},
   "outputs": [],
   "source": [
    "import numpy as np\n",
    "import scipy.stats as stats\n",
    "import seaborn as sns\n",
    "import matplotlib.pyplot as plt\n",
    "import pandas as pd\n",
    "import requests\n",
    "from bs4 import BeautifulSoup\n",
    "\n",
    "import pprintpp\n",
    "pp = pprintpp.PrettyPrinter(indent=4)\n",
    "\n",
    "plt.style.use('ggplot')\n",
    "\n",
    "%config InlineBackend.figure_format = 'retina'\n",
    "%matplotlib inline"
   ]
  },
  {
   "cell_type": "markdown",
   "metadata": {},
   "source": [
    "# Members Dataframe"
   ]
  },
  {
   "cell_type": "code",
   "execution_count": 3,
   "metadata": {},
   "outputs": [
    {
     "data": {
      "text/html": [
       "<div>\n",
       "<style scoped>\n",
       "    .dataframe tbody tr th:only-of-type {\n",
       "        vertical-align: middle;\n",
       "    }\n",
       "\n",
       "    .dataframe tbody tr th {\n",
       "        vertical-align: top;\n",
       "    }\n",
       "\n",
       "    .dataframe thead th {\n",
       "        text-align: right;\n",
       "    }\n",
       "</style>\n",
       "<table border=\"1\" class=\"dataframe\">\n",
       "  <thead>\n",
       "    <tr style=\"text-align: right;\">\n",
       "      <th></th>\n",
       "      <th>id</th>\n",
       "      <th>display_name</th>\n",
       "      <th>full_title</th>\n",
       "      <th>gender</th>\n",
       "      <th>member_from</th>\n",
       "      <th>member_house</th>\n",
       "      <th>membership_start</th>\n",
       "      <th>membership_end</th>\n",
       "      <th>membership_end_reason</th>\n",
       "      <th>membership_end_reason_notes</th>\n",
       "      <th>status_is_active</th>\n",
       "      <th>status_description</th>\n",
       "      <th>status_notes</th>\n",
       "      <th>status_start_date</th>\n",
       "      <th>party</th>\n",
       "      <th>party_is_lords_main</th>\n",
       "      <th>party_is_lords_spiritual</th>\n",
       "      <th>party_is_independent</th>\n",
       "      <th>party_government_type</th>\n",
       "    </tr>\n",
       "  </thead>\n",
       "  <tbody>\n",
       "    <tr>\n",
       "      <th>0</th>\n",
       "      <td>172</td>\n",
       "      <td>Ms Diane Abbott</td>\n",
       "      <td>Rt Hon Diane Abbott MP</td>\n",
       "      <td>F</td>\n",
       "      <td>Hackney North and Stoke Newington</td>\n",
       "      <td>1</td>\n",
       "      <td>1987-06-11T00:00:00</td>\n",
       "      <td>None</td>\n",
       "      <td>None</td>\n",
       "      <td>None</td>\n",
       "      <td>True</td>\n",
       "      <td>Current Member</td>\n",
       "      <td>None</td>\n",
       "      <td>2019-12-12T00:00:00</td>\n",
       "      <td>Labour</td>\n",
       "      <td>True</td>\n",
       "      <td>False</td>\n",
       "      <td>False</td>\n",
       "      <td>3.0</td>\n",
       "    </tr>\n",
       "    <tr>\n",
       "      <th>1</th>\n",
       "      <td>3305</td>\n",
       "      <td>Lord Aberconway</td>\n",
       "      <td>The Lord Aberconway</td>\n",
       "      <td>M</td>\n",
       "      <td>Hereditary</td>\n",
       "      <td>2</td>\n",
       "      <td>1953-05-23T00:00:00</td>\n",
       "      <td>1999-11-11T00:00:00</td>\n",
       "      <td>Excluded</td>\n",
       "      <td>None</td>\n",
       "      <td>NaN</td>\n",
       "      <td>NaN</td>\n",
       "      <td>NaN</td>\n",
       "      <td>NaN</td>\n",
       "      <td>Conservative</td>\n",
       "      <td>True</td>\n",
       "      <td>True</td>\n",
       "      <td>False</td>\n",
       "      <td>0.0</td>\n",
       "    </tr>\n",
       "    <tr>\n",
       "      <th>2</th>\n",
       "      <td>3469</td>\n",
       "      <td>The Duke of Abercorn</td>\n",
       "      <td>His Grace the Duke of Abercorn</td>\n",
       "      <td>M</td>\n",
       "      <td>Hereditary</td>\n",
       "      <td>2</td>\n",
       "      <td>1979-06-04T00:00:00</td>\n",
       "      <td>1999-11-11T00:00:00</td>\n",
       "      <td>Excluded</td>\n",
       "      <td>None</td>\n",
       "      <td>NaN</td>\n",
       "      <td>NaN</td>\n",
       "      <td>NaN</td>\n",
       "      <td>NaN</td>\n",
       "      <td>Conservative</td>\n",
       "      <td>True</td>\n",
       "      <td>True</td>\n",
       "      <td>False</td>\n",
       "      <td>0.0</td>\n",
       "    </tr>\n",
       "    <tr>\n",
       "      <th>3</th>\n",
       "      <td>3468</td>\n",
       "      <td>Lord Aberdare</td>\n",
       "      <td>The Rt Hon. the Lord Aberdare KBE DL</td>\n",
       "      <td>M</td>\n",
       "      <td>Excepted Hereditary</td>\n",
       "      <td>2</td>\n",
       "      <td>1957-12-18T00:00:00</td>\n",
       "      <td>2005-01-23T00:00:00</td>\n",
       "      <td>Death</td>\n",
       "      <td>None</td>\n",
       "      <td>NaN</td>\n",
       "      <td>NaN</td>\n",
       "      <td>NaN</td>\n",
       "      <td>NaN</td>\n",
       "      <td>Conservative</td>\n",
       "      <td>True</td>\n",
       "      <td>True</td>\n",
       "      <td>False</td>\n",
       "      <td>0.0</td>\n",
       "    </tr>\n",
       "    <tr>\n",
       "      <th>4</th>\n",
       "      <td>3898</td>\n",
       "      <td>Lord Aberdare</td>\n",
       "      <td>The Lord Aberdare</td>\n",
       "      <td>M</td>\n",
       "      <td>Excepted Hereditary</td>\n",
       "      <td>2</td>\n",
       "      <td>2009-07-20T00:00:00</td>\n",
       "      <td>None</td>\n",
       "      <td>None</td>\n",
       "      <td>None</td>\n",
       "      <td>True</td>\n",
       "      <td>Current Member</td>\n",
       "      <td>None</td>\n",
       "      <td>2009-07-20T00:00:00</td>\n",
       "      <td>Crossbench</td>\n",
       "      <td>True</td>\n",
       "      <td>True</td>\n",
       "      <td>False</td>\n",
       "      <td>NaN</td>\n",
       "    </tr>\n",
       "  </tbody>\n",
       "</table>\n",
       "</div>"
      ],
      "text/plain": [
       "     id          display_name                            full_title gender  \\\n",
       "0   172       Ms Diane Abbott                Rt Hon Diane Abbott MP      F   \n",
       "1  3305       Lord Aberconway                   The Lord Aberconway      M   \n",
       "2  3469  The Duke of Abercorn        His Grace the Duke of Abercorn      M   \n",
       "3  3468         Lord Aberdare  The Rt Hon. the Lord Aberdare KBE DL      M   \n",
       "4  3898         Lord Aberdare                     The Lord Aberdare      M   \n",
       "\n",
       "                         member_from  member_house     membership_start  \\\n",
       "0  Hackney North and Stoke Newington             1  1987-06-11T00:00:00   \n",
       "1                         Hereditary             2  1953-05-23T00:00:00   \n",
       "2                         Hereditary             2  1979-06-04T00:00:00   \n",
       "3                Excepted Hereditary             2  1957-12-18T00:00:00   \n",
       "4                Excepted Hereditary             2  2009-07-20T00:00:00   \n",
       "\n",
       "        membership_end membership_end_reason membership_end_reason_notes  \\\n",
       "0                 None                  None                        None   \n",
       "1  1999-11-11T00:00:00              Excluded                        None   \n",
       "2  1999-11-11T00:00:00              Excluded                        None   \n",
       "3  2005-01-23T00:00:00                 Death                        None   \n",
       "4                 None                  None                        None   \n",
       "\n",
       "  status_is_active status_description status_notes    status_start_date  \\\n",
       "0             True     Current Member         None  2019-12-12T00:00:00   \n",
       "1              NaN                NaN          NaN                  NaN   \n",
       "2              NaN                NaN          NaN                  NaN   \n",
       "3              NaN                NaN          NaN                  NaN   \n",
       "4             True     Current Member         None  2009-07-20T00:00:00   \n",
       "\n",
       "          party party_is_lords_main party_is_lords_spiritual  \\\n",
       "0        Labour                True                    False   \n",
       "1  Conservative                True                     True   \n",
       "2  Conservative                True                     True   \n",
       "3  Conservative                True                     True   \n",
       "4    Crossbench                True                     True   \n",
       "\n",
       "  party_is_independent  party_government_type  \n",
       "0                False                    3.0  \n",
       "1                False                    0.0  \n",
       "2                False                    0.0  \n",
       "3                False                    0.0  \n",
       "4                False                    NaN  "
      ]
     },
     "execution_count": 3,
     "metadata": {},
     "output_type": "execute_result"
    }
   ],
   "source": [
    "members = pd.read_pickle(\"../Data-Acquisition/members.pkl\")\n",
    "members.head()"
   ]
  },
  {
   "cell_type": "code",
   "execution_count": 4,
   "metadata": {},
   "outputs": [
    {
     "name": "stdout",
     "output_type": "stream",
     "text": [
      "<class 'pandas.core.frame.DataFrame'>\n",
      "RangeIndex: 4763 entries, 0 to 4762\n",
      "Data columns (total 19 columns):\n",
      " #   Column                       Non-Null Count  Dtype  \n",
      "---  ------                       --------------  -----  \n",
      " 0   id                           4763 non-null   int64  \n",
      " 1   display_name                 4763 non-null   object \n",
      " 2   full_title                   4763 non-null   object \n",
      " 3   gender                       4763 non-null   object \n",
      " 4   member_from                  4760 non-null   object \n",
      " 5   member_house                 4763 non-null   int64  \n",
      " 6   membership_start             4763 non-null   object \n",
      " 7   membership_end               3292 non-null   object \n",
      " 8   membership_end_reason        2474 non-null   object \n",
      " 9   membership_end_reason_notes  313 non-null    object \n",
      " 10  status_is_active             1471 non-null   object \n",
      " 11  status_description           1471 non-null   object \n",
      " 12  status_notes                 6 non-null      object \n",
      " 13  status_start_date            1471 non-null   object \n",
      " 14  party                        4760 non-null   object \n",
      " 15  party_is_lords_main          4760 non-null   object \n",
      " 16  party_is_lords_spiritual     4760 non-null   object \n",
      " 17  party_is_independent         4760 non-null   object \n",
      " 18  party_government_type        3031 non-null   float64\n",
      "dtypes: float64(1), int64(2), object(16)\n",
      "memory usage: 707.1+ KB\n"
     ]
    }
   ],
   "source": [
    "members.info()"
   ]
  },
  {
   "cell_type": "code",
   "execution_count": 5,
   "metadata": {},
   "outputs": [
    {
     "name": "stdout",
     "output_type": "stream",
     "text": [
      "id\n",
      "display_name\n",
      "full_title\n",
      "gender\n",
      "member_from\n",
      "member_house\n",
      "membership_start\n",
      "membership_end\n",
      "membership_end_reason\n",
      "membership_end_reason_notes\n",
      "status_is_active\n",
      "status_description\n",
      "status_notes\n",
      "status_start_date\n",
      "party\n",
      "party_is_lords_main\n",
      "party_is_lords_spiritual\n",
      "party_is_independent\n",
      "party_government_type\n"
     ]
    }
   ],
   "source": [
    "for i in members.columns:\n",
    "    print(i)"
   ]
  },
  {
   "attachments": {},
   "cell_type": "markdown",
   "metadata": {},
   "source": [
    "### Id\n",
    "\n",
    "✏️ No duplicates, good. "
   ]
  },
  {
   "cell_type": "code",
   "execution_count": 6,
   "metadata": {},
   "outputs": [
    {
     "data": {
      "text/html": [
       "<div>\n",
       "<style scoped>\n",
       "    .dataframe tbody tr th:only-of-type {\n",
       "        vertical-align: middle;\n",
       "    }\n",
       "\n",
       "    .dataframe tbody tr th {\n",
       "        vertical-align: top;\n",
       "    }\n",
       "\n",
       "    .dataframe thead th {\n",
       "        text-align: right;\n",
       "    }\n",
       "</style>\n",
       "<table border=\"1\" class=\"dataframe\">\n",
       "  <thead>\n",
       "    <tr style=\"text-align: right;\">\n",
       "      <th></th>\n",
       "      <th>id</th>\n",
       "      <th>display_name</th>\n",
       "      <th>full_title</th>\n",
       "      <th>gender</th>\n",
       "      <th>member_from</th>\n",
       "      <th>member_house</th>\n",
       "      <th>membership_start</th>\n",
       "      <th>membership_end</th>\n",
       "      <th>membership_end_reason</th>\n",
       "      <th>membership_end_reason_notes</th>\n",
       "      <th>status_is_active</th>\n",
       "      <th>status_description</th>\n",
       "      <th>status_notes</th>\n",
       "      <th>status_start_date</th>\n",
       "      <th>party</th>\n",
       "      <th>party_is_lords_main</th>\n",
       "      <th>party_is_lords_spiritual</th>\n",
       "      <th>party_is_independent</th>\n",
       "      <th>party_government_type</th>\n",
       "    </tr>\n",
       "  </thead>\n",
       "  <tbody>\n",
       "  </tbody>\n",
       "</table>\n",
       "</div>"
      ],
      "text/plain": [
       "Empty DataFrame\n",
       "Columns: [id, display_name, full_title, gender, member_from, member_house, membership_start, membership_end, membership_end_reason, membership_end_reason_notes, status_is_active, status_description, status_notes, status_start_date, party, party_is_lords_main, party_is_lords_spiritual, party_is_independent, party_government_type]\n",
       "Index: []"
      ]
     },
     "execution_count": 6,
     "metadata": {},
     "output_type": "execute_result"
    }
   ],
   "source": [
    "members[members['id'].duplicated() == True]"
   ]
  },
  {
   "attachments": {},
   "cell_type": "markdown",
   "metadata": {},
   "source": [
    "### Display Name"
   ]
  },
  {
   "cell_type": "code",
   "execution_count": 7,
   "metadata": {},
   "outputs": [
    {
     "data": {
      "text/plain": [
       "The Lord Bishop of Gloucester    4\n",
       "The Lord Bishop of Ely           4\n",
       "The Lord Bishop of Durham        4\n",
       "Lord Sinha                       4\n",
       "The Lord Bishop of Derby         4\n",
       "                                ..\n",
       "Lord Goddard of Stockport        1\n",
       "Dr Norman Godman                 1\n",
       "Mr Roger Godsiff                 1\n",
       "Lord Godson                      1\n",
       "Lord Zuckerman                   1\n",
       "Name: display_name, Length: 4425, dtype: int64"
      ]
     },
     "execution_count": 7,
     "metadata": {},
     "output_type": "execute_result"
    }
   ],
   "source": [
    "members.display_name.value_counts()"
   ]
  },
  {
   "cell_type": "code",
   "execution_count": 8,
   "metadata": {},
   "outputs": [
    {
     "data": {
      "text/html": [
       "<div>\n",
       "<style scoped>\n",
       "    .dataframe tbody tr th:only-of-type {\n",
       "        vertical-align: middle;\n",
       "    }\n",
       "\n",
       "    .dataframe tbody tr th {\n",
       "        vertical-align: top;\n",
       "    }\n",
       "\n",
       "    .dataframe thead th {\n",
       "        text-align: right;\n",
       "    }\n",
       "</style>\n",
       "<table border=\"1\" class=\"dataframe\">\n",
       "  <thead>\n",
       "    <tr style=\"text-align: right;\">\n",
       "      <th></th>\n",
       "      <th>id</th>\n",
       "      <th>display_name</th>\n",
       "      <th>full_title</th>\n",
       "      <th>gender</th>\n",
       "      <th>member_from</th>\n",
       "      <th>member_house</th>\n",
       "      <th>membership_start</th>\n",
       "      <th>membership_end</th>\n",
       "      <th>membership_end_reason</th>\n",
       "      <th>membership_end_reason_notes</th>\n",
       "      <th>status_is_active</th>\n",
       "      <th>status_description</th>\n",
       "      <th>status_notes</th>\n",
       "      <th>status_start_date</th>\n",
       "      <th>party</th>\n",
       "      <th>party_is_lords_main</th>\n",
       "      <th>party_is_lords_spiritual</th>\n",
       "      <th>party_is_independent</th>\n",
       "      <th>party_government_type</th>\n",
       "    </tr>\n",
       "  </thead>\n",
       "  <tbody>\n",
       "    <tr>\n",
       "      <th>1656</th>\n",
       "      <td>2263</td>\n",
       "      <td>The Lord Bishop of Gloucester</td>\n",
       "      <td>The Rt Revd. the Lord Bishop of Gloucester</td>\n",
       "      <td>M</td>\n",
       "      <td>Bishops</td>\n",
       "      <td>2</td>\n",
       "      <td>1981-09-30T00:00:00</td>\n",
       "      <td>1991-10-31T00:00:00</td>\n",
       "      <td>Retired</td>\n",
       "      <td>None</td>\n",
       "      <td>NaN</td>\n",
       "      <td>NaN</td>\n",
       "      <td>NaN</td>\n",
       "      <td>NaN</td>\n",
       "      <td>Bishops</td>\n",
       "      <td>True</td>\n",
       "      <td>True</td>\n",
       "      <td>False</td>\n",
       "      <td>NaN</td>\n",
       "    </tr>\n",
       "    <tr>\n",
       "      <th>1657</th>\n",
       "      <td>2601</td>\n",
       "      <td>The Lord Bishop of Gloucester</td>\n",
       "      <td>The Rt Rev. the Lord Bishop of Gloucester</td>\n",
       "      <td>M</td>\n",
       "      <td>Bishops</td>\n",
       "      <td>2</td>\n",
       "      <td>1998-01-31T00:00:00</td>\n",
       "      <td>2003-12-31T00:00:00</td>\n",
       "      <td>Retired</td>\n",
       "      <td>None</td>\n",
       "      <td>NaN</td>\n",
       "      <td>NaN</td>\n",
       "      <td>NaN</td>\n",
       "      <td>NaN</td>\n",
       "      <td>Bishops</td>\n",
       "      <td>True</td>\n",
       "      <td>True</td>\n",
       "      <td>False</td>\n",
       "      <td>NaN</td>\n",
       "    </tr>\n",
       "    <tr>\n",
       "      <th>1658</th>\n",
       "      <td>3906</td>\n",
       "      <td>The Lord Bishop of Gloucester</td>\n",
       "      <td>The Rt Rev. the Lord Bishop of Gloucester</td>\n",
       "      <td>M</td>\n",
       "      <td>Bishops</td>\n",
       "      <td>2</td>\n",
       "      <td>2009-10-27T00:00:00</td>\n",
       "      <td>2014-11-21T00:00:00</td>\n",
       "      <td>Retired</td>\n",
       "      <td>None</td>\n",
       "      <td>NaN</td>\n",
       "      <td>NaN</td>\n",
       "      <td>NaN</td>\n",
       "      <td>NaN</td>\n",
       "      <td>Bishops</td>\n",
       "      <td>True</td>\n",
       "      <td>True</td>\n",
       "      <td>False</td>\n",
       "      <td>NaN</td>\n",
       "    </tr>\n",
       "    <tr>\n",
       "      <th>1659</th>\n",
       "      <td>4540</td>\n",
       "      <td>The Lord Bishop of Gloucester</td>\n",
       "      <td>The Rt Rev. the Lord Bishop of Gloucester</td>\n",
       "      <td>F</td>\n",
       "      <td>Bishops</td>\n",
       "      <td>2</td>\n",
       "      <td>2015-09-07T00:00:00</td>\n",
       "      <td>None</td>\n",
       "      <td>None</td>\n",
       "      <td>None</td>\n",
       "      <td>True</td>\n",
       "      <td>Current Member</td>\n",
       "      <td>None</td>\n",
       "      <td>2015-09-07T00:00:00</td>\n",
       "      <td>Bishops</td>\n",
       "      <td>True</td>\n",
       "      <td>True</td>\n",
       "      <td>False</td>\n",
       "      <td>NaN</td>\n",
       "    </tr>\n",
       "  </tbody>\n",
       "</table>\n",
       "</div>"
      ],
      "text/plain": [
       "        id                   display_name  \\\n",
       "1656  2263  The Lord Bishop of Gloucester   \n",
       "1657  2601  The Lord Bishop of Gloucester   \n",
       "1658  3906  The Lord Bishop of Gloucester   \n",
       "1659  4540  The Lord Bishop of Gloucester   \n",
       "\n",
       "                                      full_title gender member_from  \\\n",
       "1656  The Rt Revd. the Lord Bishop of Gloucester      M     Bishops   \n",
       "1657   The Rt Rev. the Lord Bishop of Gloucester      M     Bishops   \n",
       "1658   The Rt Rev. the Lord Bishop of Gloucester      M     Bishops   \n",
       "1659   The Rt Rev. the Lord Bishop of Gloucester      F     Bishops   \n",
       "\n",
       "      member_house     membership_start       membership_end  \\\n",
       "1656             2  1981-09-30T00:00:00  1991-10-31T00:00:00   \n",
       "1657             2  1998-01-31T00:00:00  2003-12-31T00:00:00   \n",
       "1658             2  2009-10-27T00:00:00  2014-11-21T00:00:00   \n",
       "1659             2  2015-09-07T00:00:00                 None   \n",
       "\n",
       "     membership_end_reason membership_end_reason_notes status_is_active  \\\n",
       "1656               Retired                        None              NaN   \n",
       "1657               Retired                        None              NaN   \n",
       "1658               Retired                        None              NaN   \n",
       "1659                  None                        None             True   \n",
       "\n",
       "     status_description status_notes    status_start_date    party  \\\n",
       "1656                NaN          NaN                  NaN  Bishops   \n",
       "1657                NaN          NaN                  NaN  Bishops   \n",
       "1658                NaN          NaN                  NaN  Bishops   \n",
       "1659     Current Member         None  2015-09-07T00:00:00  Bishops   \n",
       "\n",
       "     party_is_lords_main party_is_lords_spiritual party_is_independent  \\\n",
       "1656                True                     True                False   \n",
       "1657                True                     True                False   \n",
       "1658                True                     True                False   \n",
       "1659                True                     True                False   \n",
       "\n",
       "      party_government_type  \n",
       "1656                    NaN  \n",
       "1657                    NaN  \n",
       "1658                    NaN  \n",
       "1659                    NaN  "
      ]
     },
     "execution_count": 8,
     "metadata": {},
     "output_type": "execute_result"
    }
   ],
   "source": [
    "members[members[\"display_name\"] == \"The Lord Bishop of Gloucester\"]"
   ]
  },
  {
   "attachments": {},
   "cell_type": "markdown",
   "metadata": {},
   "source": [
    "✏️ These aren't duplicates as they are titles that were passed on from one person to another, so they are almost like job titles rather than unique identifiers. "
   ]
  },
  {
   "attachments": {},
   "cell_type": "markdown",
   "metadata": {},
   "source": [
    "### Full Title"
   ]
  },
  {
   "cell_type": "code",
   "execution_count": 9,
   "metadata": {},
   "outputs": [
    {
     "data": {
      "text/plain": [
       "The Lord Sinha                          4\n",
       "His Grace the Duke of Northumberland    3\n",
       "The Rt Rev. the Lord Bishop of Derby    3\n",
       "The Lord Wolverton                      3\n",
       "The Rt Hon. the Earl of Powis           3\n",
       "                                       ..\n",
       "Rt Hon John Glen MP                     1\n",
       "The Rt Hon. the Lord Glenamara CH       1\n",
       "The Lord Glenarthur DL                  1\n",
       "The Lord Glenconner                     1\n",
       "The Lord Zuckerman                      1\n",
       "Name: full_title, Length: 4523, dtype: int64"
      ]
     },
     "execution_count": 9,
     "metadata": {},
     "output_type": "execute_result"
    }
   ],
   "source": [
    "members.full_title.value_counts()"
   ]
  },
  {
   "cell_type": "code",
   "execution_count": 10,
   "metadata": {},
   "outputs": [
    {
     "data": {
      "text/html": [
       "<div>\n",
       "<style scoped>\n",
       "    .dataframe tbody tr th:only-of-type {\n",
       "        vertical-align: middle;\n",
       "    }\n",
       "\n",
       "    .dataframe tbody tr th {\n",
       "        vertical-align: top;\n",
       "    }\n",
       "\n",
       "    .dataframe thead th {\n",
       "        text-align: right;\n",
       "    }\n",
       "</style>\n",
       "<table border=\"1\" class=\"dataframe\">\n",
       "  <thead>\n",
       "    <tr style=\"text-align: right;\">\n",
       "      <th></th>\n",
       "      <th>id</th>\n",
       "      <th>display_name</th>\n",
       "      <th>full_title</th>\n",
       "      <th>gender</th>\n",
       "      <th>member_from</th>\n",
       "      <th>member_house</th>\n",
       "      <th>membership_start</th>\n",
       "      <th>membership_end</th>\n",
       "      <th>membership_end_reason</th>\n",
       "      <th>membership_end_reason_notes</th>\n",
       "      <th>status_is_active</th>\n",
       "      <th>status_description</th>\n",
       "      <th>status_notes</th>\n",
       "      <th>status_start_date</th>\n",
       "      <th>party</th>\n",
       "      <th>party_is_lords_main</th>\n",
       "      <th>party_is_lords_spiritual</th>\n",
       "      <th>party_is_independent</th>\n",
       "      <th>party_government_type</th>\n",
       "    </tr>\n",
       "  </thead>\n",
       "  <tbody>\n",
       "    <tr>\n",
       "      <th>3983</th>\n",
       "      <td>2323</td>\n",
       "      <td>Lord Sinha</td>\n",
       "      <td>The Lord Sinha</td>\n",
       "      <td>M</td>\n",
       "      <td>Hereditary</td>\n",
       "      <td>2</td>\n",
       "      <td>1967-05-11T00:00:00</td>\n",
       "      <td>1989-01-06T00:00:00</td>\n",
       "      <td>Death</td>\n",
       "      <td>None</td>\n",
       "      <td>NaN</td>\n",
       "      <td>NaN</td>\n",
       "      <td>NaN</td>\n",
       "      <td>NaN</td>\n",
       "      <td>Non-affiliated</td>\n",
       "      <td>False</td>\n",
       "      <td>True</td>\n",
       "      <td>False</td>\n",
       "      <td>NaN</td>\n",
       "    </tr>\n",
       "    <tr>\n",
       "      <th>3984</th>\n",
       "      <td>2440</td>\n",
       "      <td>Lord Sinha</td>\n",
       "      <td>The Lord Sinha</td>\n",
       "      <td>M</td>\n",
       "      <td>Hereditary</td>\n",
       "      <td>2</td>\n",
       "      <td>1999-01-18T00:00:00</td>\n",
       "      <td>1999-11-11T00:00:00</td>\n",
       "      <td>Excluded</td>\n",
       "      <td>None</td>\n",
       "      <td>NaN</td>\n",
       "      <td>NaN</td>\n",
       "      <td>NaN</td>\n",
       "      <td>NaN</td>\n",
       "      <td>Non-affiliated</td>\n",
       "      <td>False</td>\n",
       "      <td>True</td>\n",
       "      <td>False</td>\n",
       "      <td>NaN</td>\n",
       "    </tr>\n",
       "    <tr>\n",
       "      <th>3985</th>\n",
       "      <td>2947</td>\n",
       "      <td>Lord Sinha</td>\n",
       "      <td>The Lord Sinha</td>\n",
       "      <td>M</td>\n",
       "      <td>Hereditary</td>\n",
       "      <td>2</td>\n",
       "      <td>1989-01-06T00:00:00</td>\n",
       "      <td>1992-07-25T00:00:00</td>\n",
       "      <td>Death</td>\n",
       "      <td>None</td>\n",
       "      <td>NaN</td>\n",
       "      <td>NaN</td>\n",
       "      <td>NaN</td>\n",
       "      <td>NaN</td>\n",
       "      <td>Non-affiliated</td>\n",
       "      <td>False</td>\n",
       "      <td>True</td>\n",
       "      <td>False</td>\n",
       "      <td>NaN</td>\n",
       "    </tr>\n",
       "    <tr>\n",
       "      <th>3986</th>\n",
       "      <td>3122</td>\n",
       "      <td>Lord Sinha</td>\n",
       "      <td>The Lord Sinha</td>\n",
       "      <td>M</td>\n",
       "      <td>Hereditary</td>\n",
       "      <td>2</td>\n",
       "      <td>1992-07-25T00:00:00</td>\n",
       "      <td>1999-01-19T00:00:00</td>\n",
       "      <td>Death</td>\n",
       "      <td>None</td>\n",
       "      <td>NaN</td>\n",
       "      <td>NaN</td>\n",
       "      <td>NaN</td>\n",
       "      <td>NaN</td>\n",
       "      <td>Non-affiliated</td>\n",
       "      <td>False</td>\n",
       "      <td>True</td>\n",
       "      <td>False</td>\n",
       "      <td>NaN</td>\n",
       "    </tr>\n",
       "  </tbody>\n",
       "</table>\n",
       "</div>"
      ],
      "text/plain": [
       "        id display_name      full_title gender member_from  member_house  \\\n",
       "3983  2323   Lord Sinha  The Lord Sinha      M  Hereditary             2   \n",
       "3984  2440   Lord Sinha  The Lord Sinha      M  Hereditary             2   \n",
       "3985  2947   Lord Sinha  The Lord Sinha      M  Hereditary             2   \n",
       "3986  3122   Lord Sinha  The Lord Sinha      M  Hereditary             2   \n",
       "\n",
       "         membership_start       membership_end membership_end_reason  \\\n",
       "3983  1967-05-11T00:00:00  1989-01-06T00:00:00                 Death   \n",
       "3984  1999-01-18T00:00:00  1999-11-11T00:00:00              Excluded   \n",
       "3985  1989-01-06T00:00:00  1992-07-25T00:00:00                 Death   \n",
       "3986  1992-07-25T00:00:00  1999-01-19T00:00:00                 Death   \n",
       "\n",
       "     membership_end_reason_notes status_is_active status_description  \\\n",
       "3983                        None              NaN                NaN   \n",
       "3984                        None              NaN                NaN   \n",
       "3985                        None              NaN                NaN   \n",
       "3986                        None              NaN                NaN   \n",
       "\n",
       "     status_notes status_start_date           party party_is_lords_main  \\\n",
       "3983          NaN               NaN  Non-affiliated               False   \n",
       "3984          NaN               NaN  Non-affiliated               False   \n",
       "3985          NaN               NaN  Non-affiliated               False   \n",
       "3986          NaN               NaN  Non-affiliated               False   \n",
       "\n",
       "     party_is_lords_spiritual party_is_independent  party_government_type  \n",
       "3983                     True                False                    NaN  \n",
       "3984                     True                False                    NaN  \n",
       "3985                     True                False                    NaN  \n",
       "3986                     True                False                    NaN  "
      ]
     },
     "execution_count": 10,
     "metadata": {},
     "output_type": "execute_result"
    }
   ],
   "source": [
    "members[members[\"full_title\"] == \"The Lord Sinha\"]"
   ]
  },
  {
   "attachments": {},
   "cell_type": "markdown",
   "metadata": {},
   "source": [
    "✏️ I think the same as above applies here..."
   ]
  },
  {
   "cell_type": "markdown",
   "metadata": {},
   "source": [
    "### Gender"
   ]
  },
  {
   "cell_type": "code",
   "execution_count": 11,
   "metadata": {},
   "outputs": [
    {
     "data": {
      "text/plain": [
       "M    3971\n",
       "F     792\n",
       "Name: gender, dtype: int64"
      ]
     },
     "execution_count": 11,
     "metadata": {},
     "output_type": "execute_result"
    }
   ],
   "source": [
    "members.gender.value_counts(dropna=False)"
   ]
  },
  {
   "attachments": {},
   "cell_type": "markdown",
   "metadata": {},
   "source": [
    "✏️ No NAs - good, distribution - disappointing. "
   ]
  },
  {
   "attachments": {},
   "cell_type": "markdown",
   "metadata": {},
   "source": [
    "### Member from"
   ]
  },
  {
   "cell_type": "code",
   "execution_count": 12,
   "metadata": {},
   "outputs": [
    {
     "data": {
      "text/plain": [
       "Life peer                 1378\n",
       "Hereditary                 911\n",
       "Excepted Hereditary        150\n",
       "Bishops                    124\n",
       "Life Peer (judicial)        50\n",
       "                          ... \n",
       "North East Hampshire         1\n",
       "Battersea North              1\n",
       "Orkney and Shetland          1\n",
       "Plymouth, Devonport          1\n",
       "Kenilworth and Southam       1\n",
       "Name: member_from, Length: 931, dtype: int64"
      ]
     },
     "execution_count": 12,
     "metadata": {},
     "output_type": "execute_result"
    }
   ],
   "source": [
    "members.member_from.value_counts()"
   ]
  },
  {
   "cell_type": "code",
   "execution_count": 13,
   "metadata": {},
   "outputs": [
    {
     "data": {
      "text/html": [
       "<div>\n",
       "<style scoped>\n",
       "    .dataframe tbody tr th:only-of-type {\n",
       "        vertical-align: middle;\n",
       "    }\n",
       "\n",
       "    .dataframe tbody tr th {\n",
       "        vertical-align: top;\n",
       "    }\n",
       "\n",
       "    .dataframe thead th {\n",
       "        text-align: right;\n",
       "    }\n",
       "</style>\n",
       "<table border=\"1\" class=\"dataframe\">\n",
       "  <thead>\n",
       "    <tr style=\"text-align: right;\">\n",
       "      <th></th>\n",
       "      <th>id</th>\n",
       "      <th>display_name</th>\n",
       "      <th>full_title</th>\n",
       "      <th>gender</th>\n",
       "      <th>member_from</th>\n",
       "      <th>member_house</th>\n",
       "      <th>membership_start</th>\n",
       "      <th>membership_end</th>\n",
       "      <th>membership_end_reason</th>\n",
       "      <th>membership_end_reason_notes</th>\n",
       "      <th>status_is_active</th>\n",
       "      <th>status_description</th>\n",
       "      <th>status_notes</th>\n",
       "      <th>status_start_date</th>\n",
       "      <th>party</th>\n",
       "      <th>party_is_lords_main</th>\n",
       "      <th>party_is_lords_spiritual</th>\n",
       "      <th>party_is_independent</th>\n",
       "      <th>party_government_type</th>\n",
       "    </tr>\n",
       "  </thead>\n",
       "  <tbody>\n",
       "    <tr>\n",
       "      <th>2678</th>\n",
       "      <td>2184</td>\n",
       "      <td>Lord Lucas of Chilworth</td>\n",
       "      <td>The Lord Lucas of Chilworth</td>\n",
       "      <td>M</td>\n",
       "      <td>None</td>\n",
       "      <td>2</td>\n",
       "      <td>2001-11-10T00:00:00</td>\n",
       "      <td>1999-11-11T00:00:00</td>\n",
       "      <td>Excluded</td>\n",
       "      <td>None</td>\n",
       "      <td>NaN</td>\n",
       "      <td>NaN</td>\n",
       "      <td>NaN</td>\n",
       "      <td>NaN</td>\n",
       "      <td>NaN</td>\n",
       "      <td>NaN</td>\n",
       "      <td>NaN</td>\n",
       "      <td>NaN</td>\n",
       "      <td>NaN</td>\n",
       "    </tr>\n",
       "    <tr>\n",
       "      <th>3634</th>\n",
       "      <td>3826</td>\n",
       "      <td>The Lord Rennell</td>\n",
       "      <td>The Lord Rennell</td>\n",
       "      <td>M</td>\n",
       "      <td>None</td>\n",
       "      <td>2</td>\n",
       "      <td>2006-12-09T00:00:00</td>\n",
       "      <td>1999-11-11T00:00:00</td>\n",
       "      <td>Excluded</td>\n",
       "      <td>None</td>\n",
       "      <td>NaN</td>\n",
       "      <td>NaN</td>\n",
       "      <td>NaN</td>\n",
       "      <td>NaN</td>\n",
       "      <td>NaN</td>\n",
       "      <td>NaN</td>\n",
       "      <td>NaN</td>\n",
       "      <td>NaN</td>\n",
       "      <td>NaN</td>\n",
       "    </tr>\n",
       "    <tr>\n",
       "      <th>4311</th>\n",
       "      <td>3802</td>\n",
       "      <td>Lord Thomson of Fleet</td>\n",
       "      <td>Lord Thomson of Fleet</td>\n",
       "      <td>M</td>\n",
       "      <td>None</td>\n",
       "      <td>2</td>\n",
       "      <td>2006-06-12T00:00:00</td>\n",
       "      <td>1999-11-11T00:00:00</td>\n",
       "      <td>Excluded</td>\n",
       "      <td>None</td>\n",
       "      <td>NaN</td>\n",
       "      <td>NaN</td>\n",
       "      <td>NaN</td>\n",
       "      <td>NaN</td>\n",
       "      <td>NaN</td>\n",
       "      <td>NaN</td>\n",
       "      <td>NaN</td>\n",
       "      <td>NaN</td>\n",
       "      <td>NaN</td>\n",
       "    </tr>\n",
       "  </tbody>\n",
       "</table>\n",
       "</div>"
      ],
      "text/plain": [
       "        id             display_name                   full_title gender  \\\n",
       "2678  2184  Lord Lucas of Chilworth  The Lord Lucas of Chilworth      M   \n",
       "3634  3826         The Lord Rennell             The Lord Rennell      M   \n",
       "4311  3802    Lord Thomson of Fleet        Lord Thomson of Fleet      M   \n",
       "\n",
       "     member_from  member_house     membership_start       membership_end  \\\n",
       "2678        None             2  2001-11-10T00:00:00  1999-11-11T00:00:00   \n",
       "3634        None             2  2006-12-09T00:00:00  1999-11-11T00:00:00   \n",
       "4311        None             2  2006-06-12T00:00:00  1999-11-11T00:00:00   \n",
       "\n",
       "     membership_end_reason membership_end_reason_notes status_is_active  \\\n",
       "2678              Excluded                        None              NaN   \n",
       "3634              Excluded                        None              NaN   \n",
       "4311              Excluded                        None              NaN   \n",
       "\n",
       "     status_description status_notes status_start_date party  \\\n",
       "2678                NaN          NaN               NaN   NaN   \n",
       "3634                NaN          NaN               NaN   NaN   \n",
       "4311                NaN          NaN               NaN   NaN   \n",
       "\n",
       "     party_is_lords_main party_is_lords_spiritual party_is_independent  \\\n",
       "2678                 NaN                      NaN                  NaN   \n",
       "3634                 NaN                      NaN                  NaN   \n",
       "4311                 NaN                      NaN                  NaN   \n",
       "\n",
       "      party_government_type  \n",
       "2678                    NaN  \n",
       "3634                    NaN  \n",
       "4311                    NaN  "
      ]
     },
     "execution_count": 13,
     "metadata": {},
     "output_type": "execute_result"
    }
   ],
   "source": [
    "members[members['member_from'].isna() == True]"
   ]
  },
  {
   "attachments": {},
   "cell_type": "markdown",
   "metadata": {},
   "source": [
    "✏️ Dropping the NA values... "
   ]
  },
  {
   "cell_type": "code",
   "execution_count": 14,
   "metadata": {},
   "outputs": [
    {
     "data": {
      "text/html": [
       "<div>\n",
       "<style scoped>\n",
       "    .dataframe tbody tr th:only-of-type {\n",
       "        vertical-align: middle;\n",
       "    }\n",
       "\n",
       "    .dataframe tbody tr th {\n",
       "        vertical-align: top;\n",
       "    }\n",
       "\n",
       "    .dataframe thead th {\n",
       "        text-align: right;\n",
       "    }\n",
       "</style>\n",
       "<table border=\"1\" class=\"dataframe\">\n",
       "  <thead>\n",
       "    <tr style=\"text-align: right;\">\n",
       "      <th></th>\n",
       "      <th>id</th>\n",
       "      <th>display_name</th>\n",
       "      <th>full_title</th>\n",
       "      <th>gender</th>\n",
       "      <th>member_from</th>\n",
       "      <th>member_house</th>\n",
       "      <th>membership_start</th>\n",
       "      <th>membership_end</th>\n",
       "      <th>membership_end_reason</th>\n",
       "      <th>membership_end_reason_notes</th>\n",
       "      <th>status_is_active</th>\n",
       "      <th>status_description</th>\n",
       "      <th>status_notes</th>\n",
       "      <th>status_start_date</th>\n",
       "      <th>party</th>\n",
       "      <th>party_is_lords_main</th>\n",
       "      <th>party_is_lords_spiritual</th>\n",
       "      <th>party_is_independent</th>\n",
       "      <th>party_government_type</th>\n",
       "    </tr>\n",
       "  </thead>\n",
       "  <tbody>\n",
       "  </tbody>\n",
       "</table>\n",
       "</div>"
      ],
      "text/plain": [
       "Empty DataFrame\n",
       "Columns: [id, display_name, full_title, gender, member_from, member_house, membership_start, membership_end, membership_end_reason, membership_end_reason_notes, status_is_active, status_description, status_notes, status_start_date, party, party_is_lords_main, party_is_lords_spiritual, party_is_independent, party_government_type]\n",
       "Index: []"
      ]
     },
     "execution_count": 14,
     "metadata": {},
     "output_type": "execute_result"
    }
   ],
   "source": [
    "members.dropna(subset='member_from', axis=0, inplace=True)\n",
    "members[members['member_from'].isna() == True]"
   ]
  },
  {
   "attachments": {},
   "cell_type": "markdown",
   "metadata": {},
   "source": [
    "### Member house"
   ]
  },
  {
   "cell_type": "code",
   "execution_count": 15,
   "metadata": {},
   "outputs": [
    {
     "data": {
      "text/plain": [
       "2    2631\n",
       "1    2129\n",
       "Name: member_house, dtype: int64"
      ]
     },
     "execution_count": 15,
     "metadata": {},
     "output_type": "execute_result"
    }
   ],
   "source": [
    "members.member_house.value_counts(dropna=False)"
   ]
  },
  {
   "attachments": {},
   "cell_type": "markdown",
   "metadata": {},
   "source": [
    "✏️ No NAs - good.\n",
    "\n",
    "💡 1: Commons, 2: Lords"
   ]
  },
  {
   "attachments": {},
   "cell_type": "markdown",
   "metadata": {},
   "source": [
    "### Membership start, end & membership status"
   ]
  },
  {
   "cell_type": "code",
   "execution_count": 16,
   "metadata": {},
   "outputs": [
    {
     "name": "stdout",
     "output_type": "stream",
     "text": [
      "0\n",
      "1471\n"
     ]
    }
   ],
   "source": [
    "print(len(members[members['membership_start'].isna() == True]))\n",
    "print(len(members[members['membership_end'].isna() == True]))"
   ]
  },
  {
   "attachments": {},
   "cell_type": "markdown",
   "metadata": {},
   "source": [
    "✏️ No NAs for membership start - good. NAs for membership end must mean they are currently active? Checking:"
   ]
  },
  {
   "cell_type": "code",
   "execution_count": 17,
   "metadata": {},
   "outputs": [
    {
     "data": {
      "text/plain": [
       "NaN      3289\n",
       "True     1426\n",
       "False      45\n",
       "Name: status_is_active, dtype: int64"
      ]
     },
     "execution_count": 17,
     "metadata": {},
     "output_type": "execute_result"
    }
   ],
   "source": [
    "members.status_is_active.value_counts(dropna=False)"
   ]
  },
  {
   "cell_type": "code",
   "execution_count": 18,
   "metadata": {},
   "outputs": [
    {
     "data": {
      "text/plain": [
       "NaN                 3289\n",
       "Current Member      1426\n",
       "Leave of Absence      39\n",
       "Disqualified           3\n",
       "Suspended              3\n",
       "Name: status_description, dtype: int64"
      ]
     },
     "execution_count": 18,
     "metadata": {},
     "output_type": "execute_result"
    }
   ],
   "source": [
    "members.status_description.value_counts(dropna=False)"
   ]
  },
  {
   "cell_type": "code",
   "execution_count": 19,
   "metadata": {},
   "outputs": [
    {
     "data": {
      "text/plain": [
       "NaN                        3289\n",
       "None                       1465\n",
       "Member of the Judiciary       3\n",
       "Suspended                     3\n",
       "Name: status_notes, dtype: int64"
      ]
     },
     "execution_count": 19,
     "metadata": {},
     "output_type": "execute_result"
    }
   ],
   "source": [
    "members.status_notes.value_counts(dropna=False)"
   ]
  },
  {
   "cell_type": "code",
   "execution_count": 20,
   "metadata": {},
   "outputs": [
    {
     "data": {
      "text/plain": [
       "None                        2289\n",
       "Death                       1016\n",
       "Excluded                     626\n",
       "Retired                      445\n",
       "Defeated                     254\n",
       "Standing Down                 63\n",
       "General Election              24\n",
       "Resignation (Northstead)      15\n",
       "Resignation (Chiltern)        15\n",
       "Non-attendance                 8\n",
       "Recall Petition                2\n",
       "Resigned                       1\n",
       "Election petition              1\n",
       "Deselected                     1\n",
       "Name: membership_end_reason, dtype: int64"
      ]
     },
     "execution_count": 20,
     "metadata": {},
     "output_type": "execute_result"
    }
   ],
   "source": [
    "members.membership_end_reason.value_counts(dropna=False)"
   ]
  },
  {
   "cell_type": "code",
   "execution_count": 21,
   "metadata": {},
   "outputs": [
    {
     "data": {
      "text/plain": [
       "None                                                                                               4447\n",
       "Dissolution of Parliament                                                                           143\n",
       "Retired under the House of Lords Reform Act 2014                                                    108\n",
       "House of Lords Reform Act 2014                                                                        3\n",
       "Resigned under the Constitutional Reform and Governance Act 2010                                      3\n",
       "                                                                                                   ... \n",
       "Became London Mayor 08/05/16                                                                          1\n",
       "Retired under the House of Lords Reform Act 2014 [Baroness Lockwood died on 29 April 2019]            1\n",
       "Retired under the House of Lords Reform Act 2014\\n \\n[Lord Luke died on 2 October 2015]               1\n",
       "Mr. Adams refused to accept the office of Crown Steward and Bailiff of the Manor of Northstead.       1\n",
       "Member did not attend during session 2016–17                                                          1\n",
       "Name: membership_end_reason_notes, Length: 61, dtype: int64"
      ]
     },
     "execution_count": 21,
     "metadata": {},
     "output_type": "execute_result"
    }
   ],
   "source": [
    "members.membership_end_reason_notes.value_counts(dropna=False)"
   ]
  },
  {
   "cell_type": "markdown",
   "metadata": {},
   "source": [
    "### Adding a Membership Duration Column"
   ]
  },
  {
   "cell_type": "code",
   "execution_count": 22,
   "metadata": {},
   "outputs": [],
   "source": [
    "members[['membership_start','membership_end']] = members[['membership_start','membership_end']].apply(pd.to_datetime) #if conversion required\n",
    "members['membership_duration'] = (members['membership_end'] - members['membership_start']).dt.days"
   ]
  },
  {
   "cell_type": "code",
   "execution_count": 23,
   "metadata": {},
   "outputs": [
    {
     "data": {
      "text/plain": [
       "False    3289\n",
       "True     1471\n",
       "Name: membership_duration, dtype: int64"
      ]
     },
     "execution_count": 23,
     "metadata": {},
     "output_type": "execute_result"
    }
   ],
   "source": [
    "members['membership_duration'].isna().value_counts()"
   ]
  },
  {
   "cell_type": "code",
   "execution_count": 24,
   "metadata": {},
   "outputs": [
    {
     "data": {
      "text/plain": [
       "NaN      3289\n",
       "True     1426\n",
       "False      45\n",
       "Name: status_is_active, dtype: int64"
      ]
     },
     "execution_count": 24,
     "metadata": {},
     "output_type": "execute_result"
    }
   ],
   "source": [
    "members.status_is_active.value_counts(dropna=False)"
   ]
  },
  {
   "attachments": {},
   "cell_type": "markdown",
   "metadata": {},
   "source": [
    "💡 In status is active NaN means the membership has ended, True means the membership is active, and False means the member is either on leave of Absence, Disqualified or Suspended... adjusting the labels accordingly & computing the active members' current membership durations:"
   ]
  },
  {
   "cell_type": "code",
   "execution_count": 25,
   "metadata": {},
   "outputs": [
    {
     "data": {
      "text/plain": [
       "PermanentlyInactive    3289\n",
       "Active                 1426\n",
       "TemporarilyInactive      45\n",
       "Name: membership_status, dtype: int64"
      ]
     },
     "execution_count": 25,
     "metadata": {},
     "output_type": "execute_result"
    }
   ],
   "source": [
    "members = members.rename(columns={\"status_is_active\": \"membership_status\"})\n",
    "\n",
    "members.loc[members['membership_status'] == True, 'membership_status'] = \"Active\"\n",
    "members.loc[members['membership_status'] == False, 'membership_status'] = \"TemporarilyInactive\"\n",
    "members.loc[members['membership_status'].isna(), 'membership_status'] = \"PermanentlyInactive\"\n",
    "\n",
    "members = members.drop(\"status_description\", axis=1)\n",
    "\n",
    "members['membership_status'].value_counts()"
   ]
  },
  {
   "cell_type": "code",
   "execution_count": 26,
   "metadata": {},
   "outputs": [
    {
     "data": {
      "text/plain": [
       "False    4760\n",
       "Name: membership_duration_in_days, dtype: int64"
      ]
     },
     "execution_count": 26,
     "metadata": {},
     "output_type": "execute_result"
    }
   ],
   "source": [
    "members['membership_end'].fillna(pd.to_datetime('today').normalize(), inplace=True)\n",
    "members['membership_duration'] = (members['membership_end'] - members['membership_start']).dt.days\n",
    "members = members.rename(columns={\"membership_duration\": \"membership_duration_in_days\"})\n",
    "\n",
    "members.membership_duration_in_days.isna().value_counts()"
   ]
  },
  {
   "cell_type": "code",
   "execution_count": 27,
   "metadata": {},
   "outputs": [
    {
     "data": {
      "text/html": [
       "<div>\n",
       "<style scoped>\n",
       "    .dataframe tbody tr th:only-of-type {\n",
       "        vertical-align: middle;\n",
       "    }\n",
       "\n",
       "    .dataframe tbody tr th {\n",
       "        vertical-align: top;\n",
       "    }\n",
       "\n",
       "    .dataframe thead th {\n",
       "        text-align: right;\n",
       "    }\n",
       "</style>\n",
       "<table border=\"1\" class=\"dataframe\">\n",
       "  <thead>\n",
       "    <tr style=\"text-align: right;\">\n",
       "      <th></th>\n",
       "      <th>id</th>\n",
       "      <th>display_name</th>\n",
       "      <th>full_title</th>\n",
       "      <th>gender</th>\n",
       "      <th>member_from</th>\n",
       "      <th>member_house</th>\n",
       "      <th>membership_end_reason</th>\n",
       "      <th>membership_end_reason_notes</th>\n",
       "      <th>membership_status</th>\n",
       "      <th>status_notes</th>\n",
       "      <th>status_start_date</th>\n",
       "      <th>party</th>\n",
       "      <th>party_is_lords_main</th>\n",
       "      <th>party_is_lords_spiritual</th>\n",
       "      <th>party_is_independent</th>\n",
       "      <th>party_government_type</th>\n",
       "      <th>membership_duration_in_days</th>\n",
       "      <th>member_since</th>\n",
       "      <th>member_till</th>\n",
       "    </tr>\n",
       "  </thead>\n",
       "  <tbody>\n",
       "    <tr>\n",
       "      <th>0</th>\n",
       "      <td>172</td>\n",
       "      <td>Ms Diane Abbott</td>\n",
       "      <td>Rt Hon Diane Abbott MP</td>\n",
       "      <td>F</td>\n",
       "      <td>Hackney North and Stoke Newington</td>\n",
       "      <td>1</td>\n",
       "      <td>None</td>\n",
       "      <td>None</td>\n",
       "      <td>Active</td>\n",
       "      <td>None</td>\n",
       "      <td>2019-12-12T00:00:00</td>\n",
       "      <td>Labour</td>\n",
       "      <td>True</td>\n",
       "      <td>False</td>\n",
       "      <td>False</td>\n",
       "      <td>3.0</td>\n",
       "      <td>13095</td>\n",
       "      <td>1987</td>\n",
       "      <td>2023</td>\n",
       "    </tr>\n",
       "    <tr>\n",
       "      <th>1</th>\n",
       "      <td>3305</td>\n",
       "      <td>Lord Aberconway</td>\n",
       "      <td>The Lord Aberconway</td>\n",
       "      <td>M</td>\n",
       "      <td>Hereditary</td>\n",
       "      <td>2</td>\n",
       "      <td>Excluded</td>\n",
       "      <td>None</td>\n",
       "      <td>PermanentlyInactive</td>\n",
       "      <td>NaN</td>\n",
       "      <td>NaN</td>\n",
       "      <td>Conservative</td>\n",
       "      <td>True</td>\n",
       "      <td>True</td>\n",
       "      <td>False</td>\n",
       "      <td>0.0</td>\n",
       "      <td>16973</td>\n",
       "      <td>1953</td>\n",
       "      <td>1999</td>\n",
       "    </tr>\n",
       "    <tr>\n",
       "      <th>2</th>\n",
       "      <td>3469</td>\n",
       "      <td>The Duke of Abercorn</td>\n",
       "      <td>His Grace the Duke of Abercorn</td>\n",
       "      <td>M</td>\n",
       "      <td>Hereditary</td>\n",
       "      <td>2</td>\n",
       "      <td>Excluded</td>\n",
       "      <td>None</td>\n",
       "      <td>PermanentlyInactive</td>\n",
       "      <td>NaN</td>\n",
       "      <td>NaN</td>\n",
       "      <td>Conservative</td>\n",
       "      <td>True</td>\n",
       "      <td>True</td>\n",
       "      <td>False</td>\n",
       "      <td>0.0</td>\n",
       "      <td>7465</td>\n",
       "      <td>1979</td>\n",
       "      <td>1999</td>\n",
       "    </tr>\n",
       "    <tr>\n",
       "      <th>3</th>\n",
       "      <td>3468</td>\n",
       "      <td>Lord Aberdare</td>\n",
       "      <td>The Rt Hon. the Lord Aberdare KBE DL</td>\n",
       "      <td>M</td>\n",
       "      <td>Excepted Hereditary</td>\n",
       "      <td>2</td>\n",
       "      <td>Death</td>\n",
       "      <td>None</td>\n",
       "      <td>PermanentlyInactive</td>\n",
       "      <td>NaN</td>\n",
       "      <td>NaN</td>\n",
       "      <td>Conservative</td>\n",
       "      <td>True</td>\n",
       "      <td>True</td>\n",
       "      <td>False</td>\n",
       "      <td>0.0</td>\n",
       "      <td>17203</td>\n",
       "      <td>1957</td>\n",
       "      <td>2005</td>\n",
       "    </tr>\n",
       "    <tr>\n",
       "      <th>4</th>\n",
       "      <td>3898</td>\n",
       "      <td>Lord Aberdare</td>\n",
       "      <td>The Lord Aberdare</td>\n",
       "      <td>M</td>\n",
       "      <td>Excepted Hereditary</td>\n",
       "      <td>2</td>\n",
       "      <td>None</td>\n",
       "      <td>None</td>\n",
       "      <td>Active</td>\n",
       "      <td>None</td>\n",
       "      <td>2009-07-20T00:00:00</td>\n",
       "      <td>Crossbench</td>\n",
       "      <td>True</td>\n",
       "      <td>True</td>\n",
       "      <td>False</td>\n",
       "      <td>NaN</td>\n",
       "      <td>5020</td>\n",
       "      <td>2009</td>\n",
       "      <td>2023</td>\n",
       "    </tr>\n",
       "  </tbody>\n",
       "</table>\n",
       "</div>"
      ],
      "text/plain": [
       "     id          display_name                            full_title gender  \\\n",
       "0   172       Ms Diane Abbott                Rt Hon Diane Abbott MP      F   \n",
       "1  3305       Lord Aberconway                   The Lord Aberconway      M   \n",
       "2  3469  The Duke of Abercorn        His Grace the Duke of Abercorn      M   \n",
       "3  3468         Lord Aberdare  The Rt Hon. the Lord Aberdare KBE DL      M   \n",
       "4  3898         Lord Aberdare                     The Lord Aberdare      M   \n",
       "\n",
       "                         member_from  member_house membership_end_reason  \\\n",
       "0  Hackney North and Stoke Newington             1                  None   \n",
       "1                         Hereditary             2              Excluded   \n",
       "2                         Hereditary             2              Excluded   \n",
       "3                Excepted Hereditary             2                 Death   \n",
       "4                Excepted Hereditary             2                  None   \n",
       "\n",
       "  membership_end_reason_notes    membership_status status_notes  \\\n",
       "0                        None               Active         None   \n",
       "1                        None  PermanentlyInactive          NaN   \n",
       "2                        None  PermanentlyInactive          NaN   \n",
       "3                        None  PermanentlyInactive          NaN   \n",
       "4                        None               Active         None   \n",
       "\n",
       "     status_start_date         party party_is_lords_main  \\\n",
       "0  2019-12-12T00:00:00        Labour                True   \n",
       "1                  NaN  Conservative                True   \n",
       "2                  NaN  Conservative                True   \n",
       "3                  NaN  Conservative                True   \n",
       "4  2009-07-20T00:00:00    Crossbench                True   \n",
       "\n",
       "  party_is_lords_spiritual party_is_independent  party_government_type  \\\n",
       "0                    False                False                    3.0   \n",
       "1                     True                False                    0.0   \n",
       "2                     True                False                    0.0   \n",
       "3                     True                False                    0.0   \n",
       "4                     True                False                    NaN   \n",
       "\n",
       "   membership_duration_in_days  member_since  member_till  \n",
       "0                        13095          1987         2023  \n",
       "1                        16973          1953         1999  \n",
       "2                         7465          1979         1999  \n",
       "3                        17203          1957         2005  \n",
       "4                         5020          2009         2023  "
      ]
     },
     "execution_count": 27,
     "metadata": {},
     "output_type": "execute_result"
    }
   ],
   "source": [
    "members['member_since'] = members['membership_start'].dt.year\n",
    "members['member_till'] = members['membership_end'].dt.year\n",
    "\n",
    "members = members.drop([\"membership_start\", \"membership_end\"], axis=1)\n",
    "members.head()"
   ]
  },
  {
   "cell_type": "code",
   "execution_count": 28,
   "metadata": {},
   "outputs": [],
   "source": [
    "members.membership_end_reason.fillna(\"None\", inplace=True)"
   ]
  },
  {
   "cell_type": "code",
   "execution_count": 29,
   "metadata": {},
   "outputs": [],
   "source": [
    "members = members.drop([\"membership_end_reason_notes\", \"status_notes\", \"status_start_date\"], axis=1)"
   ]
  },
  {
   "cell_type": "code",
   "execution_count": 30,
   "metadata": {},
   "outputs": [
    {
     "name": "stdout",
     "output_type": "stream",
     "text": [
      "<class 'pandas.core.frame.DataFrame'>\n",
      "Int64Index: 4760 entries, 0 to 4762\n",
      "Data columns (total 16 columns):\n",
      " #   Column                       Non-Null Count  Dtype  \n",
      "---  ------                       --------------  -----  \n",
      " 0   id                           4760 non-null   int64  \n",
      " 1   display_name                 4760 non-null   object \n",
      " 2   full_title                   4760 non-null   object \n",
      " 3   gender                       4760 non-null   object \n",
      " 4   member_from                  4760 non-null   object \n",
      " 5   member_house                 4760 non-null   int64  \n",
      " 6   membership_end_reason        4760 non-null   object \n",
      " 7   membership_status            4760 non-null   object \n",
      " 8   party                        4760 non-null   object \n",
      " 9   party_is_lords_main          4760 non-null   object \n",
      " 10  party_is_lords_spiritual     4760 non-null   object \n",
      " 11  party_is_independent         4760 non-null   object \n",
      " 12  party_government_type        3031 non-null   float64\n",
      " 13  membership_duration_in_days  4760 non-null   int64  \n",
      " 14  member_since                 4760 non-null   int64  \n",
      " 15  member_till                  4760 non-null   int64  \n",
      "dtypes: float64(1), int64(5), object(10)\n",
      "memory usage: 632.2+ KB\n"
     ]
    }
   ],
   "source": [
    "members.info()"
   ]
  },
  {
   "cell_type": "markdown",
   "metadata": {},
   "source": [
    "### Party"
   ]
  },
  {
   "cell_type": "code",
   "execution_count": 31,
   "metadata": {},
   "outputs": [
    {
     "data": {
      "text/plain": [
       "Conservative                        1779\n",
       "Labour                              1194\n",
       "Crossbench                           652\n",
       "Liberal Democrat                     273\n",
       "Other                                233\n",
       "Non-affiliated                       136\n",
       "Bishops                              124\n",
       "Scottish National Party               79\n",
       "Independent                           66\n",
       "Labour (Co-op)                        58\n",
       "Democratic Unionist Party             22\n",
       "Social Democratic Party               22\n",
       "Ulster Unionist Party                 21\n",
       "Sinn Féin                             14\n",
       "Liberal                               12\n",
       "Plaid Cymru                           11\n",
       "Independent Labour                     9\n",
       "Social Democratic & Labour Party       8\n",
       "Independent Conservative               7\n",
       "Not known                              5\n",
       "The Independent Group for Change       5\n",
       "Green Party                            4\n",
       "Alliance                               3\n",
       "Alba Party                             2\n",
       "Independent Socialist                  2\n",
       "Anti H Block                           2\n",
       "Opposition Unity                       2\n",
       "Speaker                                2\n",
       "Independent SDP                        2\n",
       "United Ulster Unionist Party           1\n",
       "Respect                                1\n",
       "Referendum                             1\n",
       "National Liberal & Conservative        1\n",
       "Ulster Popular Unionist Party          1\n",
       "Independent Ulster Unionist            1\n",
       "United Kingdom Unionist                1\n",
       "Lord Speaker                           1\n",
       "Independent Social Democrat            1\n",
       "UK Independence Party                  1\n",
       "Conservative Independent               1\n",
       "Name: party, dtype: int64"
      ]
     },
     "execution_count": 31,
     "metadata": {},
     "output_type": "execute_result"
    }
   ],
   "source": [
    "members.party.value_counts(dropna=False)"
   ]
  },
  {
   "attachments": {},
   "cell_type": "markdown",
   "metadata": {},
   "source": [
    "✏️ Dropping NAs:"
   ]
  },
  {
   "cell_type": "code",
   "execution_count": 32,
   "metadata": {},
   "outputs": [],
   "source": [
    "members = members[members.party.isna() == False]"
   ]
  },
  {
   "cell_type": "markdown",
   "metadata": {},
   "source": [
    "### Party_is_lords_main / party_is_lords_spiritual / party_is_independent / party_government_type"
   ]
  },
  {
   "cell_type": "code",
   "execution_count": 33,
   "metadata": {},
   "outputs": [
    {
     "data": {
      "text/plain": [
       "1    4086\n",
       "0     674\n",
       "Name: party_is_lords_main, dtype: int64"
      ]
     },
     "execution_count": 33,
     "metadata": {},
     "output_type": "execute_result"
    }
   ],
   "source": [
    "members.party_is_lords_main.value_counts(dropna=False)\n",
    "\n",
    "members.loc[members['party_is_lords_main'] == False, 'party_is_lords_main'] = 0\n",
    "members.loc[members['party_is_lords_main'] == True, 'party_is_lords_main'] = 1\n",
    "\n",
    "members.party_is_lords_main.value_counts()"
   ]
  },
  {
   "cell_type": "code",
   "execution_count": 34,
   "metadata": {},
   "outputs": [
    {
     "data": {
      "text/plain": [
       "1    2736\n",
       "0    2024\n",
       "Name: party_is_lords_spiritual, dtype: int64"
      ]
     },
     "execution_count": 34,
     "metadata": {},
     "output_type": "execute_result"
    }
   ],
   "source": [
    "members.loc[members['party_is_lords_spiritual'] == False, 'party_is_lords_spiritual'] = 0\n",
    "members.loc[members['party_is_lords_spiritual'] == True, 'party_is_lords_spiritual'] = 1\n",
    "\n",
    "members.party_is_lords_spiritual.value_counts()"
   ]
  },
  {
   "cell_type": "code",
   "execution_count": 35,
   "metadata": {},
   "outputs": [
    {
     "data": {
      "text/plain": [
       "0    4694\n",
       "1      66\n",
       "Name: party_is_independent, dtype: int64"
      ]
     },
     "execution_count": 35,
     "metadata": {},
     "output_type": "execute_result"
    }
   ],
   "source": [
    "members.party_is_independent.value_counts(dropna=False)\n",
    "\n",
    "members.loc[members['party_is_independent'] == False, 'party_is_independent'] = 0\n",
    "members.loc[members['party_is_independent'] == True, 'party_is_independent'] = 1\n",
    "\n",
    "members.party_is_independent.value_counts()"
   ]
  },
  {
   "cell_type": "code",
   "execution_count": 36,
   "metadata": {},
   "outputs": [
    {
     "data": {
      "text/plain": [
       "0.0    1779\n",
       "NaN    1729\n",
       "3.0    1252\n",
       "Name: party_government_type, dtype: int64"
      ]
     },
     "execution_count": 36,
     "metadata": {},
     "output_type": "execute_result"
    }
   ],
   "source": [
    "members.party_government_type.value_counts(dropna=False)"
   ]
  },
  {
   "attachments": {},
   "cell_type": "markdown",
   "metadata": {},
   "source": [
    "💡 No idea what this means - dropping."
   ]
  },
  {
   "cell_type": "code",
   "execution_count": 37,
   "metadata": {},
   "outputs": [
    {
     "name": "stdout",
     "output_type": "stream",
     "text": [
      "<class 'pandas.core.frame.DataFrame'>\n",
      "Int64Index: 4760 entries, 0 to 4762\n",
      "Data columns (total 15 columns):\n",
      " #   Column                       Non-Null Count  Dtype \n",
      "---  ------                       --------------  ----- \n",
      " 0   id                           4760 non-null   int64 \n",
      " 1   display_name                 4760 non-null   object\n",
      " 2   full_title                   4760 non-null   object\n",
      " 3   gender                       4760 non-null   object\n",
      " 4   member_from                  4760 non-null   object\n",
      " 5   member_house                 4760 non-null   int64 \n",
      " 6   membership_end_reason        4760 non-null   object\n",
      " 7   membership_status            4760 non-null   object\n",
      " 8   party                        4760 non-null   object\n",
      " 9   party_is_lords_main          4760 non-null   object\n",
      " 10  party_is_lords_spiritual     4760 non-null   object\n",
      " 11  party_is_independent         4760 non-null   object\n",
      " 12  membership_duration_in_days  4760 non-null   int64 \n",
      " 13  member_since                 4760 non-null   int64 \n",
      " 14  member_till                  4760 non-null   int64 \n",
      "dtypes: int64(5), object(10)\n",
      "memory usage: 595.0+ KB\n"
     ]
    }
   ],
   "source": [
    "del members[\"party_government_type\"]\n",
    "\n",
    "members.info()"
   ]
  },
  {
   "cell_type": "code",
   "execution_count": 38,
   "metadata": {},
   "outputs": [],
   "source": [
    "members.to_pickle(\"cleaned_members_gov_uk.pkl\")"
   ]
  },
  {
   "cell_type": "markdown",
   "metadata": {},
   "source": [
    "# Votes Dataframe"
   ]
  },
  {
   "cell_type": "code",
   "execution_count": 39,
   "metadata": {},
   "outputs": [
    {
     "name": "stdout",
     "output_type": "stream",
     "text": [
      "<class 'pandas.core.frame.DataFrame'>\n",
      "RangeIndex: 731949 entries, 0 to 731948\n",
      "Data columns (total 7 columns):\n",
      " #   Column             Non-Null Count   Dtype \n",
      "---  ------             --------------   ----- \n",
      " 0   member_id          731949 non-null  object\n",
      " 1   vote_title         731949 non-null  object\n",
      " 2   vote_date          731949 non-null  object\n",
      " 3   aye_count          731949 non-null  object\n",
      " 4   no_count           731949 non-null  object\n",
      " 5   member_voted_aye   731949 non-null  object\n",
      " 6   member_was_teller  731949 non-null  object\n",
      "dtypes: object(7)\n",
      "memory usage: 39.1+ MB\n"
     ]
    }
   ],
   "source": [
    "votes = pd.read_pickle(\"../Data-Acquisition/votes.pkl\")\n",
    "votes.info()"
   ]
  },
  {
   "cell_type": "code",
   "execution_count": 40,
   "metadata": {},
   "outputs": [
    {
     "data": {
      "text/html": [
       "<div>\n",
       "<style scoped>\n",
       "    .dataframe tbody tr th:only-of-type {\n",
       "        vertical-align: middle;\n",
       "    }\n",
       "\n",
       "    .dataframe tbody tr th {\n",
       "        vertical-align: top;\n",
       "    }\n",
       "\n",
       "    .dataframe thead th {\n",
       "        text-align: right;\n",
       "    }\n",
       "</style>\n",
       "<table border=\"1\" class=\"dataframe\">\n",
       "  <thead>\n",
       "    <tr style=\"text-align: right;\">\n",
       "      <th></th>\n",
       "      <th>member_id</th>\n",
       "      <th>vote_title</th>\n",
       "      <th>vote_date</th>\n",
       "      <th>aye_count</th>\n",
       "      <th>no_count</th>\n",
       "      <th>member_voted_aye</th>\n",
       "      <th>member_was_teller</th>\n",
       "    </tr>\n",
       "  </thead>\n",
       "  <tbody>\n",
       "    <tr>\n",
       "      <th>0</th>\n",
       "      <td>172</td>\n",
       "      <td>Finance (No. 2) Bill: Reasoned Amendment to Se...</td>\n",
       "      <td>2023-03-29T18:03:00</td>\n",
       "      <td>211</td>\n",
       "      <td>289</td>\n",
       "      <td>True</td>\n",
       "      <td>False</td>\n",
       "    </tr>\n",
       "    <tr>\n",
       "      <th>1</th>\n",
       "      <td>172</td>\n",
       "      <td>Illegal Migration Bill: Committee of the whole...</td>\n",
       "      <td>2023-03-28T20:37:00</td>\n",
       "      <td>248</td>\n",
       "      <td>301</td>\n",
       "      <td>True</td>\n",
       "      <td>False</td>\n",
       "    </tr>\n",
       "    <tr>\n",
       "      <th>2</th>\n",
       "      <td>172</td>\n",
       "      <td>Illegal Migration Bill: Committee of the whole...</td>\n",
       "      <td>2023-03-28T20:25:00</td>\n",
       "      <td>249</td>\n",
       "      <td>301</td>\n",
       "      <td>True</td>\n",
       "      <td>False</td>\n",
       "    </tr>\n",
       "    <tr>\n",
       "      <th>3</th>\n",
       "      <td>172</td>\n",
       "      <td>Illegal Migration Bill: Committee of the whole...</td>\n",
       "      <td>2023-03-28T20:13:00</td>\n",
       "      <td>248</td>\n",
       "      <td>299</td>\n",
       "      <td>True</td>\n",
       "      <td>False</td>\n",
       "    </tr>\n",
       "    <tr>\n",
       "      <th>4</th>\n",
       "      <td>172</td>\n",
       "      <td>Illegal Migration Bill: Committee of the whole...</td>\n",
       "      <td>2023-03-28T20:01:00</td>\n",
       "      <td>302</td>\n",
       "      <td>242</td>\n",
       "      <td>False</td>\n",
       "      <td>False</td>\n",
       "    </tr>\n",
       "  </tbody>\n",
       "</table>\n",
       "</div>"
      ],
      "text/plain": [
       "  member_id                                         vote_title  \\\n",
       "0       172  Finance (No. 2) Bill: Reasoned Amendment to Se...   \n",
       "1       172  Illegal Migration Bill: Committee of the whole...   \n",
       "2       172  Illegal Migration Bill: Committee of the whole...   \n",
       "3       172  Illegal Migration Bill: Committee of the whole...   \n",
       "4       172  Illegal Migration Bill: Committee of the whole...   \n",
       "\n",
       "             vote_date aye_count no_count member_voted_aye member_was_teller  \n",
       "0  2023-03-29T18:03:00       211      289             True             False  \n",
       "1  2023-03-28T20:37:00       248      301             True             False  \n",
       "2  2023-03-28T20:25:00       249      301             True             False  \n",
       "3  2023-03-28T20:13:00       248      299             True             False  \n",
       "4  2023-03-28T20:01:00       302      242            False             False  "
      ]
     },
     "execution_count": 40,
     "metadata": {},
     "output_type": "execute_result"
    }
   ],
   "source": [
    "votes.head()"
   ]
  },
  {
   "attachments": {},
   "cell_type": "markdown",
   "metadata": {},
   "source": [
    "### Vote Years"
   ]
  },
  {
   "cell_type": "code",
   "execution_count": 41,
   "metadata": {},
   "outputs": [
    {
     "data": {
      "text/plain": [
       "array([2023, 2022, 2021, 2020, 2019, 2018, 2017, 2016])"
      ]
     },
     "execution_count": 41,
     "metadata": {},
     "output_type": "execute_result"
    }
   ],
   "source": [
    "votes['vote_date'] = votes['vote_date'].apply(pd.to_datetime) \n",
    "votes['vote_year'] = votes['vote_date'].dt.year\n",
    "\n",
    "votes['vote_year'].unique()"
   ]
  },
  {
   "attachments": {},
   "cell_type": "markdown",
   "metadata": {},
   "source": [
    "✏️ We have voting data spanning 8 years from 2016-2023."
   ]
  },
  {
   "attachments": {},
   "cell_type": "markdown",
   "metadata": {},
   "source": [
    "### Vote Titles"
   ]
  },
  {
   "cell_type": "code",
   "execution_count": 42,
   "metadata": {},
   "outputs": [
    {
     "data": {
      "text/plain": [
       "1450"
      ]
     },
     "execution_count": 42,
     "metadata": {},
     "output_type": "execute_result"
    }
   ],
   "source": [
    "len(votes['vote_title'].unique())"
   ]
  },
  {
   "attachments": {},
   "cell_type": "markdown",
   "metadata": {},
   "source": [
    "✏️ There are a total of 1450 votes within this dataset."
   ]
  },
  {
   "attachments": {},
   "cell_type": "markdown",
   "metadata": {},
   "source": [
    "✏️ Assigning unique id's:"
   ]
  },
  {
   "cell_type": "code",
   "execution_count": 43,
   "metadata": {},
   "outputs": [
    {
     "name": "stdout",
     "output_type": "stream",
     "text": [
      "1450\n",
      "1450\n"
     ]
    },
    {
     "data": {
      "text/html": [
       "<div>\n",
       "<style scoped>\n",
       "    .dataframe tbody tr th:only-of-type {\n",
       "        vertical-align: middle;\n",
       "    }\n",
       "\n",
       "    .dataframe tbody tr th {\n",
       "        vertical-align: top;\n",
       "    }\n",
       "\n",
       "    .dataframe thead th {\n",
       "        text-align: right;\n",
       "    }\n",
       "</style>\n",
       "<table border=\"1\" class=\"dataframe\">\n",
       "  <thead>\n",
       "    <tr style=\"text-align: right;\">\n",
       "      <th></th>\n",
       "      <th>vote_title</th>\n",
       "      <th>vote_id</th>\n",
       "    </tr>\n",
       "  </thead>\n",
       "  <tbody>\n",
       "    <tr>\n",
       "      <th>120902</th>\n",
       "      <td>\\tElections Bill: Government Motion to disagre...</td>\n",
       "      <td>0</td>\n",
       "    </tr>\n",
       "    <tr>\n",
       "      <th>236829</th>\n",
       "      <td>\\tElections Bill: Government Motion to disagre...</td>\n",
       "      <td>0</td>\n",
       "    </tr>\n",
       "    <tr>\n",
       "      <th>641185</th>\n",
       "      <td>\\tElections Bill: Government Motion to disagre...</td>\n",
       "      <td>0</td>\n",
       "    </tr>\n",
       "    <tr>\n",
       "      <th>501855</th>\n",
       "      <td>\\tElections Bill: Government Motion to disagre...</td>\n",
       "      <td>0</td>\n",
       "    </tr>\n",
       "    <tr>\n",
       "      <th>10274</th>\n",
       "      <td>\\tElections Bill: Government Motion to disagre...</td>\n",
       "      <td>0</td>\n",
       "    </tr>\n",
       "    <tr>\n",
       "      <th>...</th>\n",
       "      <td>...</td>\n",
       "      <td>...</td>\n",
       "    </tr>\n",
       "    <tr>\n",
       "      <th>621768</th>\n",
       "      <td>s5 European Communities (Amendment) Act 1993</td>\n",
       "      <td>1449</td>\n",
       "    </tr>\n",
       "    <tr>\n",
       "      <th>110277</th>\n",
       "      <td>s5 European Communities (Amendment) Act 1993</td>\n",
       "      <td>1449</td>\n",
       "    </tr>\n",
       "    <tr>\n",
       "      <th>365890</th>\n",
       "      <td>s5 European Communities (Amendment) Act 1993</td>\n",
       "      <td>1449</td>\n",
       "    </tr>\n",
       "    <tr>\n",
       "      <th>497072</th>\n",
       "      <td>s5 European Communities (Amendment) Act 1993</td>\n",
       "      <td>1449</td>\n",
       "    </tr>\n",
       "    <tr>\n",
       "      <th>342855</th>\n",
       "      <td>s5 European Communities (Amendment) Act 1993</td>\n",
       "      <td>1449</td>\n",
       "    </tr>\n",
       "  </tbody>\n",
       "</table>\n",
       "<p>731949 rows × 2 columns</p>\n",
       "</div>"
      ],
      "text/plain": [
       "                                               vote_title  vote_id\n",
       "120902  \\tElections Bill: Government Motion to disagre...        0\n",
       "236829  \\tElections Bill: Government Motion to disagre...        0\n",
       "641185  \\tElections Bill: Government Motion to disagre...        0\n",
       "501855  \\tElections Bill: Government Motion to disagre...        0\n",
       "10274   \\tElections Bill: Government Motion to disagre...        0\n",
       "...                                                   ...      ...\n",
       "621768       s5 European Communities (Amendment) Act 1993     1449\n",
       "110277       s5 European Communities (Amendment) Act 1993     1449\n",
       "365890       s5 European Communities (Amendment) Act 1993     1449\n",
       "497072       s5 European Communities (Amendment) Act 1993     1449\n",
       "342855       s5 European Communities (Amendment) Act 1993     1449\n",
       "\n",
       "[731949 rows x 2 columns]"
      ]
     },
     "execution_count": 43,
     "metadata": {},
     "output_type": "execute_result"
    }
   ],
   "source": [
    "votes['vote_id'] = votes.groupby(['vote_title']).ngroup()\n",
    "\n",
    "print(len(votes['vote_title'].unique()))\n",
    "print(len(votes['vote_id'].unique()))\n",
    "\n",
    "votes[[\"vote_title\", \"vote_id\"]].sort_values(by=\"vote_id\")"
   ]
  },
  {
   "cell_type": "markdown",
   "metadata": {},
   "source": [
    "I'll NLP the vote_titles closer to the modelling stage to save memory..."
   ]
  },
  {
   "cell_type": "markdown",
   "metadata": {},
   "source": [
    "### Member was teller"
   ]
  },
  {
   "cell_type": "markdown",
   "metadata": {},
   "source": [
    "Dropping this as it will be too strong a predictor ..."
   ]
  },
  {
   "cell_type": "code",
   "execution_count": 44,
   "metadata": {},
   "outputs": [],
   "source": [
    "del votes[\"member_was_teller\"]"
   ]
  },
  {
   "attachments": {},
   "cell_type": "markdown",
   "metadata": {},
   "source": [
    "### Member voted aye"
   ]
  },
  {
   "cell_type": "code",
   "execution_count": 45,
   "metadata": {},
   "outputs": [
    {
     "data": {
      "text/plain": [
       "1    377589\n",
       "0    354360\n",
       "Name: member_voted_aye, dtype: int64"
      ]
     },
     "execution_count": 45,
     "metadata": {},
     "output_type": "execute_result"
    }
   ],
   "source": [
    "votes.loc[votes['member_voted_aye'] == False, 'member_voted_aye'] = 0\n",
    "votes.loc[votes['member_voted_aye'] == True, 'member_voted_aye'] = 1\n",
    "\n",
    "votes.member_voted_aye.value_counts()"
   ]
  },
  {
   "cell_type": "markdown",
   "metadata": {},
   "source": [
    "✏️ Pretty even classes, great :)"
   ]
  },
  {
   "cell_type": "markdown",
   "metadata": {},
   "source": [
    "### Adding a vote outcome column"
   ]
  },
  {
   "cell_type": "code",
   "execution_count": 46,
   "metadata": {},
   "outputs": [],
   "source": [
    "comparison_column = np.where(votes[\"aye_count\"] > votes[\"no_count\"], 1, 0)\n",
    "votes[\"vote_outcome\"] = comparison_column"
   ]
  },
  {
   "cell_type": "code",
   "execution_count": 47,
   "metadata": {},
   "outputs": [
    {
     "data": {
      "text/html": [
       "<div>\n",
       "<style scoped>\n",
       "    .dataframe tbody tr th:only-of-type {\n",
       "        vertical-align: middle;\n",
       "    }\n",
       "\n",
       "    .dataframe tbody tr th {\n",
       "        vertical-align: top;\n",
       "    }\n",
       "\n",
       "    .dataframe thead th {\n",
       "        text-align: right;\n",
       "    }\n",
       "</style>\n",
       "<table border=\"1\" class=\"dataframe\">\n",
       "  <thead>\n",
       "    <tr style=\"text-align: right;\">\n",
       "      <th></th>\n",
       "      <th>member_id</th>\n",
       "      <th>vote_title</th>\n",
       "      <th>vote_date</th>\n",
       "      <th>aye_count</th>\n",
       "      <th>no_count</th>\n",
       "      <th>member_voted_aye</th>\n",
       "      <th>vote_year</th>\n",
       "      <th>vote_id</th>\n",
       "      <th>vote_outcome</th>\n",
       "    </tr>\n",
       "  </thead>\n",
       "  <tbody>\n",
       "    <tr>\n",
       "      <th>0</th>\n",
       "      <td>172</td>\n",
       "      <td>Finance (No. 2) Bill: Reasoned Amendment to Se...</td>\n",
       "      <td>2023-03-29 18:03:00</td>\n",
       "      <td>211</td>\n",
       "      <td>289</td>\n",
       "      <td>1</td>\n",
       "      <td>2023</td>\n",
       "      <td>495</td>\n",
       "      <td>0</td>\n",
       "    </tr>\n",
       "    <tr>\n",
       "      <th>1</th>\n",
       "      <td>172</td>\n",
       "      <td>Illegal Migration Bill: Committee of the whole...</td>\n",
       "      <td>2023-03-28 20:37:00</td>\n",
       "      <td>248</td>\n",
       "      <td>301</td>\n",
       "      <td>1</td>\n",
       "      <td>2023</td>\n",
       "      <td>683</td>\n",
       "      <td>0</td>\n",
       "    </tr>\n",
       "    <tr>\n",
       "      <th>2</th>\n",
       "      <td>172</td>\n",
       "      <td>Illegal Migration Bill: Committee of the whole...</td>\n",
       "      <td>2023-03-28 20:25:00</td>\n",
       "      <td>249</td>\n",
       "      <td>301</td>\n",
       "      <td>1</td>\n",
       "      <td>2023</td>\n",
       "      <td>680</td>\n",
       "      <td>0</td>\n",
       "    </tr>\n",
       "    <tr>\n",
       "      <th>3</th>\n",
       "      <td>172</td>\n",
       "      <td>Illegal Migration Bill: Committee of the whole...</td>\n",
       "      <td>2023-03-28 20:13:00</td>\n",
       "      <td>248</td>\n",
       "      <td>299</td>\n",
       "      <td>1</td>\n",
       "      <td>2023</td>\n",
       "      <td>677</td>\n",
       "      <td>0</td>\n",
       "    </tr>\n",
       "    <tr>\n",
       "      <th>4</th>\n",
       "      <td>172</td>\n",
       "      <td>Illegal Migration Bill: Committee of the whole...</td>\n",
       "      <td>2023-03-28 20:01:00</td>\n",
       "      <td>302</td>\n",
       "      <td>242</td>\n",
       "      <td>0</td>\n",
       "      <td>2023</td>\n",
       "      <td>679</td>\n",
       "      <td>1</td>\n",
       "    </tr>\n",
       "  </tbody>\n",
       "</table>\n",
       "</div>"
      ],
      "text/plain": [
       "  member_id                                         vote_title  \\\n",
       "0       172  Finance (No. 2) Bill: Reasoned Amendment to Se...   \n",
       "1       172  Illegal Migration Bill: Committee of the whole...   \n",
       "2       172  Illegal Migration Bill: Committee of the whole...   \n",
       "3       172  Illegal Migration Bill: Committee of the whole...   \n",
       "4       172  Illegal Migration Bill: Committee of the whole...   \n",
       "\n",
       "            vote_date aye_count no_count member_voted_aye  vote_year  vote_id  \\\n",
       "0 2023-03-29 18:03:00       211      289                1       2023      495   \n",
       "1 2023-03-28 20:37:00       248      301                1       2023      683   \n",
       "2 2023-03-28 20:25:00       249      301                1       2023      680   \n",
       "3 2023-03-28 20:13:00       248      299                1       2023      677   \n",
       "4 2023-03-28 20:01:00       302      242                0       2023      679   \n",
       "\n",
       "   vote_outcome  \n",
       "0             0  \n",
       "1             0  \n",
       "2             0  \n",
       "3             0  \n",
       "4             1  "
      ]
     },
     "execution_count": 47,
     "metadata": {},
     "output_type": "execute_result"
    }
   ],
   "source": [
    "votes.head()"
   ]
  },
  {
   "attachments": {},
   "cell_type": "markdown",
   "metadata": {},
   "source": [
    "✏️ Vote outcome = 1 if more ayes than nos, else 0."
   ]
  },
  {
   "cell_type": "markdown",
   "metadata": {},
   "source": [
    "## member_id"
   ]
  },
  {
   "cell_type": "code",
   "execution_count": 48,
   "metadata": {},
   "outputs": [
    {
     "data": {
      "text/plain": [
       "901"
      ]
     },
     "execution_count": 48,
     "metadata": {},
     "output_type": "execute_result"
    }
   ],
   "source": [
    "len(votes.member_id.unique())"
   ]
  },
  {
   "attachments": {},
   "cell_type": "markdown",
   "metadata": {},
   "source": [
    "✏️ 901 unique members in this dataset. Good, saving it to a cleaned file."
   ]
  },
  {
   "cell_type": "code",
   "execution_count": 49,
   "metadata": {},
   "outputs": [],
   "source": [
    "votes.to_pickle(\"cleaned_votes.pkl\")"
   ]
  },
  {
   "attachments": {},
   "cell_type": "markdown",
   "metadata": {},
   "source": [
    "# Written Statements"
   ]
  },
  {
   "cell_type": "code",
   "execution_count": 50,
   "metadata": {},
   "outputs": [
    {
     "name": "stdout",
     "output_type": "stream",
     "text": [
      "<class 'pandas.core.frame.DataFrame'>\n",
      "RangeIndex: 6255 entries, 0 to 6254\n",
      "Data columns (total 10 columns):\n",
      " #   Column               Non-Null Count  Dtype \n",
      "---  ------               --------------  ----- \n",
      " 0   statement_id         6255 non-null   int64 \n",
      " 1   statement_title      6255 non-null   object\n",
      " 2   statement_text       6255 non-null   object\n",
      " 3   member_id            6255 non-null   int64 \n",
      " 4   member_name          0 non-null      object\n",
      " 5   member_role          6255 non-null   object\n",
      " 6   statement_date       6255 non-null   object\n",
      " 7   answering_body_id    6255 non-null   int64 \n",
      " 8   answering_body_name  6255 non-null   int64 \n",
      " 9   house                6255 non-null   object\n",
      "dtypes: int64(4), object(6)\n",
      "memory usage: 488.8+ KB\n"
     ]
    }
   ],
   "source": [
    "statements = pd.read_pickle(\"../Data-Acquisition/written_statements.pkl\")\n",
    "statements.info()"
   ]
  },
  {
   "attachments": {},
   "cell_type": "markdown",
   "metadata": {},
   "source": [
    "✏️ Dropping empty column member_name: "
   ]
  },
  {
   "cell_type": "code",
   "execution_count": 51,
   "metadata": {},
   "outputs": [],
   "source": [
    "statements = statements.drop(columns=\"member_name\")"
   ]
  },
  {
   "cell_type": "markdown",
   "metadata": {},
   "source": [
    "💡 Parking this for the MVP - I think it's too much NLP work for its potential reward."
   ]
  }
 ],
 "metadata": {
  "kernelspec": {
   "display_name": "Python 3",
   "language": "python",
   "name": "python3"
  },
  "language_info": {
   "codemirror_mode": {
    "name": "ipython",
    "version": 3
   },
   "file_extension": ".py",
   "mimetype": "text/x-python",
   "name": "python",
   "nbconvert_exporter": "python",
   "pygments_lexer": "ipython3",
   "version": "3.11.2"
  },
  "orig_nbformat": 4
 },
 "nbformat": 4,
 "nbformat_minor": 2
}
