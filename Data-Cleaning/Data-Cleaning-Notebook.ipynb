{
 "cells": [
  {
   "cell_type": "markdown",
   "metadata": {},
   "source": [
    "# Data Cleaning"
   ]
  },
  {
   "attachments": {},
   "cell_type": "markdown",
   "metadata": {},
   "source": [
    "Our current data structure can be visualised as such:\n",
    "\n",
    "![title](../Data-Acquisition/data_structure.png)\n",
    "\n",
    "I will now perform some minor cleaning before moving onto further data collection."
   ]
  },
  {
   "cell_type": "code",
   "execution_count": 6,
   "metadata": {},
   "outputs": [],
   "source": [
    "import numpy as np\n",
    "import scipy.stats as stats\n",
    "import seaborn as sns\n",
    "import matplotlib.pyplot as plt\n",
    "import pandas as pd\n",
    "import requests\n",
    "from bs4 import BeautifulSoup\n",
    "\n",
    "import pprintpp\n",
    "pp = pprintpp.PrettyPrinter(indent=4)\n",
    "\n",
    "plt.style.use('ggplot')\n",
    "\n",
    "%config InlineBackend.figure_format = 'retina'\n",
    "%matplotlib inline"
   ]
  },
  {
   "cell_type": "markdown",
   "metadata": {},
   "source": [
    "# Members Dataframe"
   ]
  },
  {
   "cell_type": "code",
   "execution_count": 9,
   "metadata": {},
   "outputs": [
    {
     "data": {
      "text/html": [
       "<div>\n",
       "<style scoped>\n",
       "    .dataframe tbody tr th:only-of-type {\n",
       "        vertical-align: middle;\n",
       "    }\n",
       "\n",
       "    .dataframe tbody tr th {\n",
       "        vertical-align: top;\n",
       "    }\n",
       "\n",
       "    .dataframe thead th {\n",
       "        text-align: right;\n",
       "    }\n",
       "</style>\n",
       "<table border=\"1\" class=\"dataframe\">\n",
       "  <thead>\n",
       "    <tr style=\"text-align: right;\">\n",
       "      <th></th>\n",
       "      <th>id</th>\n",
       "      <th>display_name</th>\n",
       "      <th>full_title</th>\n",
       "      <th>gender</th>\n",
       "      <th>member_from</th>\n",
       "      <th>member_house</th>\n",
       "      <th>membership_start</th>\n",
       "      <th>membership_end</th>\n",
       "      <th>membership_end_reason</th>\n",
       "      <th>membership_end_reason_notes</th>\n",
       "      <th>status_is_active</th>\n",
       "      <th>status_description</th>\n",
       "      <th>status_notes</th>\n",
       "      <th>status_start_date</th>\n",
       "      <th>party</th>\n",
       "      <th>party_is_lords_main</th>\n",
       "      <th>party_is_lords_spiritual</th>\n",
       "      <th>party_is_independent</th>\n",
       "      <th>party_government_type</th>\n",
       "    </tr>\n",
       "  </thead>\n",
       "  <tbody>\n",
       "    <tr>\n",
       "      <th>0</th>\n",
       "      <td>172</td>\n",
       "      <td>Ms Diane Abbott</td>\n",
       "      <td>Rt Hon Diane Abbott MP</td>\n",
       "      <td>F</td>\n",
       "      <td>Hackney North and Stoke Newington</td>\n",
       "      <td>1</td>\n",
       "      <td>1987-06-11T00:00:00</td>\n",
       "      <td>None</td>\n",
       "      <td>None</td>\n",
       "      <td>None</td>\n",
       "      <td>True</td>\n",
       "      <td>Current Member</td>\n",
       "      <td>None</td>\n",
       "      <td>2019-12-12T00:00:00</td>\n",
       "      <td>Labour</td>\n",
       "      <td>True</td>\n",
       "      <td>False</td>\n",
       "      <td>False</td>\n",
       "      <td>3.0</td>\n",
       "    </tr>\n",
       "    <tr>\n",
       "      <th>1</th>\n",
       "      <td>3305</td>\n",
       "      <td>Lord Aberconway</td>\n",
       "      <td>The Lord Aberconway</td>\n",
       "      <td>M</td>\n",
       "      <td>Hereditary</td>\n",
       "      <td>2</td>\n",
       "      <td>1953-05-23T00:00:00</td>\n",
       "      <td>1999-11-11T00:00:00</td>\n",
       "      <td>Excluded</td>\n",
       "      <td>None</td>\n",
       "      <td>NaN</td>\n",
       "      <td>NaN</td>\n",
       "      <td>NaN</td>\n",
       "      <td>NaN</td>\n",
       "      <td>Conservative</td>\n",
       "      <td>True</td>\n",
       "      <td>True</td>\n",
       "      <td>False</td>\n",
       "      <td>0.0</td>\n",
       "    </tr>\n",
       "    <tr>\n",
       "      <th>2</th>\n",
       "      <td>3469</td>\n",
       "      <td>The Duke of Abercorn</td>\n",
       "      <td>His Grace the Duke of Abercorn</td>\n",
       "      <td>M</td>\n",
       "      <td>Hereditary</td>\n",
       "      <td>2</td>\n",
       "      <td>1979-06-04T00:00:00</td>\n",
       "      <td>1999-11-11T00:00:00</td>\n",
       "      <td>Excluded</td>\n",
       "      <td>None</td>\n",
       "      <td>NaN</td>\n",
       "      <td>NaN</td>\n",
       "      <td>NaN</td>\n",
       "      <td>NaN</td>\n",
       "      <td>Conservative</td>\n",
       "      <td>True</td>\n",
       "      <td>True</td>\n",
       "      <td>False</td>\n",
       "      <td>0.0</td>\n",
       "    </tr>\n",
       "    <tr>\n",
       "      <th>3</th>\n",
       "      <td>3468</td>\n",
       "      <td>Lord Aberdare</td>\n",
       "      <td>The Rt Hon. the Lord Aberdare KBE DL</td>\n",
       "      <td>M</td>\n",
       "      <td>Excepted Hereditary</td>\n",
       "      <td>2</td>\n",
       "      <td>1957-12-18T00:00:00</td>\n",
       "      <td>2005-01-23T00:00:00</td>\n",
       "      <td>Death</td>\n",
       "      <td>None</td>\n",
       "      <td>NaN</td>\n",
       "      <td>NaN</td>\n",
       "      <td>NaN</td>\n",
       "      <td>NaN</td>\n",
       "      <td>Conservative</td>\n",
       "      <td>True</td>\n",
       "      <td>True</td>\n",
       "      <td>False</td>\n",
       "      <td>0.0</td>\n",
       "    </tr>\n",
       "    <tr>\n",
       "      <th>4</th>\n",
       "      <td>3898</td>\n",
       "      <td>Lord Aberdare</td>\n",
       "      <td>The Lord Aberdare</td>\n",
       "      <td>M</td>\n",
       "      <td>Excepted Hereditary</td>\n",
       "      <td>2</td>\n",
       "      <td>2009-07-20T00:00:00</td>\n",
       "      <td>None</td>\n",
       "      <td>None</td>\n",
       "      <td>None</td>\n",
       "      <td>True</td>\n",
       "      <td>Current Member</td>\n",
       "      <td>None</td>\n",
       "      <td>2009-07-20T00:00:00</td>\n",
       "      <td>Crossbench</td>\n",
       "      <td>True</td>\n",
       "      <td>True</td>\n",
       "      <td>False</td>\n",
       "      <td>NaN</td>\n",
       "    </tr>\n",
       "  </tbody>\n",
       "</table>\n",
       "</div>"
      ],
      "text/plain": [
       "     id          display_name                            full_title gender  \\\n",
       "0   172       Ms Diane Abbott                Rt Hon Diane Abbott MP      F   \n",
       "1  3305       Lord Aberconway                   The Lord Aberconway      M   \n",
       "2  3469  The Duke of Abercorn        His Grace the Duke of Abercorn      M   \n",
       "3  3468         Lord Aberdare  The Rt Hon. the Lord Aberdare KBE DL      M   \n",
       "4  3898         Lord Aberdare                     The Lord Aberdare      M   \n",
       "\n",
       "                         member_from  member_house     membership_start  \\\n",
       "0  Hackney North and Stoke Newington             1  1987-06-11T00:00:00   \n",
       "1                         Hereditary             2  1953-05-23T00:00:00   \n",
       "2                         Hereditary             2  1979-06-04T00:00:00   \n",
       "3                Excepted Hereditary             2  1957-12-18T00:00:00   \n",
       "4                Excepted Hereditary             2  2009-07-20T00:00:00   \n",
       "\n",
       "        membership_end membership_end_reason membership_end_reason_notes  \\\n",
       "0                 None                  None                        None   \n",
       "1  1999-11-11T00:00:00              Excluded                        None   \n",
       "2  1999-11-11T00:00:00              Excluded                        None   \n",
       "3  2005-01-23T00:00:00                 Death                        None   \n",
       "4                 None                  None                        None   \n",
       "\n",
       "  status_is_active status_description status_notes    status_start_date  \\\n",
       "0             True     Current Member         None  2019-12-12T00:00:00   \n",
       "1              NaN                NaN          NaN                  NaN   \n",
       "2              NaN                NaN          NaN                  NaN   \n",
       "3              NaN                NaN          NaN                  NaN   \n",
       "4             True     Current Member         None  2009-07-20T00:00:00   \n",
       "\n",
       "          party party_is_lords_main party_is_lords_spiritual  \\\n",
       "0        Labour                True                    False   \n",
       "1  Conservative                True                     True   \n",
       "2  Conservative                True                     True   \n",
       "3  Conservative                True                     True   \n",
       "4    Crossbench                True                     True   \n",
       "\n",
       "  party_is_independent  party_government_type  \n",
       "0                False                    3.0  \n",
       "1                False                    0.0  \n",
       "2                False                    0.0  \n",
       "3                False                    0.0  \n",
       "4                False                    NaN  "
      ]
     },
     "execution_count": 9,
     "metadata": {},
     "output_type": "execute_result"
    }
   ],
   "source": [
    "members = pd.read_pickle(\"../Data-Acquisition/members.pkl\")\n",
    "members.head()"
   ]
  },
  {
   "cell_type": "code",
   "execution_count": 10,
   "metadata": {},
   "outputs": [
    {
     "name": "stdout",
     "output_type": "stream",
     "text": [
      "<class 'pandas.core.frame.DataFrame'>\n",
      "RangeIndex: 4763 entries, 0 to 4762\n",
      "Data columns (total 19 columns):\n",
      " #   Column                       Non-Null Count  Dtype  \n",
      "---  ------                       --------------  -----  \n",
      " 0   id                           4763 non-null   int64  \n",
      " 1   display_name                 4763 non-null   object \n",
      " 2   full_title                   4763 non-null   object \n",
      " 3   gender                       4763 non-null   object \n",
      " 4   member_from                  4760 non-null   object \n",
      " 5   member_house                 4763 non-null   int64  \n",
      " 6   membership_start             4763 non-null   object \n",
      " 7   membership_end               3292 non-null   object \n",
      " 8   membership_end_reason        2474 non-null   object \n",
      " 9   membership_end_reason_notes  313 non-null    object \n",
      " 10  status_is_active             1471 non-null   object \n",
      " 11  status_description           1471 non-null   object \n",
      " 12  status_notes                 6 non-null      object \n",
      " 13  status_start_date            1471 non-null   object \n",
      " 14  party                        4760 non-null   object \n",
      " 15  party_is_lords_main          4760 non-null   object \n",
      " 16  party_is_lords_spiritual     4760 non-null   object \n",
      " 17  party_is_independent         4760 non-null   object \n",
      " 18  party_government_type        3031 non-null   float64\n",
      "dtypes: float64(1), int64(2), object(16)\n",
      "memory usage: 707.1+ KB\n"
     ]
    }
   ],
   "source": [
    "members.info()"
   ]
  },
  {
   "cell_type": "code",
   "execution_count": 11,
   "metadata": {},
   "outputs": [
    {
     "name": "stdout",
     "output_type": "stream",
     "text": [
      "id\n",
      "display_name\n",
      "full_title\n",
      "gender\n",
      "member_from\n",
      "member_house\n",
      "membership_start\n",
      "membership_end\n",
      "membership_end_reason\n",
      "membership_end_reason_notes\n",
      "status_is_active\n",
      "status_description\n",
      "status_notes\n",
      "status_start_date\n",
      "party\n",
      "party_is_lords_main\n",
      "party_is_lords_spiritual\n",
      "party_is_independent\n",
      "party_government_type\n"
     ]
    }
   ],
   "source": [
    "for i in members.columns:\n",
    "    print(i)"
   ]
  },
  {
   "attachments": {},
   "cell_type": "markdown",
   "metadata": {},
   "source": [
    "### Id\n",
    "\n",
    "✏️ No duplicates, good. "
   ]
  },
  {
   "cell_type": "code",
   "execution_count": 13,
   "metadata": {},
   "outputs": [
    {
     "data": {
      "text/html": [
       "<div>\n",
       "<style scoped>\n",
       "    .dataframe tbody tr th:only-of-type {\n",
       "        vertical-align: middle;\n",
       "    }\n",
       "\n",
       "    .dataframe tbody tr th {\n",
       "        vertical-align: top;\n",
       "    }\n",
       "\n",
       "    .dataframe thead th {\n",
       "        text-align: right;\n",
       "    }\n",
       "</style>\n",
       "<table border=\"1\" class=\"dataframe\">\n",
       "  <thead>\n",
       "    <tr style=\"text-align: right;\">\n",
       "      <th></th>\n",
       "      <th>id</th>\n",
       "      <th>display_name</th>\n",
       "      <th>full_title</th>\n",
       "      <th>gender</th>\n",
       "      <th>member_from</th>\n",
       "      <th>member_house</th>\n",
       "      <th>membership_start</th>\n",
       "      <th>membership_end</th>\n",
       "      <th>membership_end_reason</th>\n",
       "      <th>membership_end_reason_notes</th>\n",
       "      <th>status_is_active</th>\n",
       "      <th>status_description</th>\n",
       "      <th>status_notes</th>\n",
       "      <th>status_start_date</th>\n",
       "      <th>party</th>\n",
       "      <th>party_is_lords_main</th>\n",
       "      <th>party_is_lords_spiritual</th>\n",
       "      <th>party_is_independent</th>\n",
       "      <th>party_government_type</th>\n",
       "    </tr>\n",
       "  </thead>\n",
       "  <tbody>\n",
       "  </tbody>\n",
       "</table>\n",
       "</div>"
      ],
      "text/plain": [
       "Empty DataFrame\n",
       "Columns: [id, display_name, full_title, gender, member_from, member_house, membership_start, membership_end, membership_end_reason, membership_end_reason_notes, status_is_active, status_description, status_notes, status_start_date, party, party_is_lords_main, party_is_lords_spiritual, party_is_independent, party_government_type]\n",
       "Index: []"
      ]
     },
     "execution_count": 13,
     "metadata": {},
     "output_type": "execute_result"
    }
   ],
   "source": [
    "members[members['id'].duplicated() == True]"
   ]
  },
  {
   "attachments": {},
   "cell_type": "markdown",
   "metadata": {},
   "source": [
    "### Display Name"
   ]
  },
  {
   "cell_type": "code",
   "execution_count": 16,
   "metadata": {},
   "outputs": [
    {
     "data": {
      "text/plain": [
       "The Lord Bishop of Gloucester    4\n",
       "The Lord Bishop of Ely           4\n",
       "The Lord Bishop of Durham        4\n",
       "Lord Sinha                       4\n",
       "The Lord Bishop of Derby         4\n",
       "                                ..\n",
       "Lord Goddard of Stockport        1\n",
       "Dr Norman Godman                 1\n",
       "Mr Roger Godsiff                 1\n",
       "Lord Godson                      1\n",
       "Lord Zuckerman                   1\n",
       "Name: display_name, Length: 4425, dtype: int64"
      ]
     },
     "execution_count": 16,
     "metadata": {},
     "output_type": "execute_result"
    }
   ],
   "source": [
    "members.display_name.value_counts()"
   ]
  },
  {
   "cell_type": "code",
   "execution_count": 17,
   "metadata": {},
   "outputs": [
    {
     "data": {
      "text/html": [
       "<div>\n",
       "<style scoped>\n",
       "    .dataframe tbody tr th:only-of-type {\n",
       "        vertical-align: middle;\n",
       "    }\n",
       "\n",
       "    .dataframe tbody tr th {\n",
       "        vertical-align: top;\n",
       "    }\n",
       "\n",
       "    .dataframe thead th {\n",
       "        text-align: right;\n",
       "    }\n",
       "</style>\n",
       "<table border=\"1\" class=\"dataframe\">\n",
       "  <thead>\n",
       "    <tr style=\"text-align: right;\">\n",
       "      <th></th>\n",
       "      <th>id</th>\n",
       "      <th>display_name</th>\n",
       "      <th>full_title</th>\n",
       "      <th>gender</th>\n",
       "      <th>member_from</th>\n",
       "      <th>member_house</th>\n",
       "      <th>membership_start</th>\n",
       "      <th>membership_end</th>\n",
       "      <th>membership_end_reason</th>\n",
       "      <th>membership_end_reason_notes</th>\n",
       "      <th>status_is_active</th>\n",
       "      <th>status_description</th>\n",
       "      <th>status_notes</th>\n",
       "      <th>status_start_date</th>\n",
       "      <th>party</th>\n",
       "      <th>party_is_lords_main</th>\n",
       "      <th>party_is_lords_spiritual</th>\n",
       "      <th>party_is_independent</th>\n",
       "      <th>party_government_type</th>\n",
       "    </tr>\n",
       "  </thead>\n",
       "  <tbody>\n",
       "    <tr>\n",
       "      <th>1656</th>\n",
       "      <td>2263</td>\n",
       "      <td>The Lord Bishop of Gloucester</td>\n",
       "      <td>The Rt Revd. the Lord Bishop of Gloucester</td>\n",
       "      <td>M</td>\n",
       "      <td>Bishops</td>\n",
       "      <td>2</td>\n",
       "      <td>1981-09-30T00:00:00</td>\n",
       "      <td>1991-10-31T00:00:00</td>\n",
       "      <td>Retired</td>\n",
       "      <td>None</td>\n",
       "      <td>NaN</td>\n",
       "      <td>NaN</td>\n",
       "      <td>NaN</td>\n",
       "      <td>NaN</td>\n",
       "      <td>Bishops</td>\n",
       "      <td>True</td>\n",
       "      <td>True</td>\n",
       "      <td>False</td>\n",
       "      <td>NaN</td>\n",
       "    </tr>\n",
       "    <tr>\n",
       "      <th>1657</th>\n",
       "      <td>2601</td>\n",
       "      <td>The Lord Bishop of Gloucester</td>\n",
       "      <td>The Rt Rev. the Lord Bishop of Gloucester</td>\n",
       "      <td>M</td>\n",
       "      <td>Bishops</td>\n",
       "      <td>2</td>\n",
       "      <td>1998-01-31T00:00:00</td>\n",
       "      <td>2003-12-31T00:00:00</td>\n",
       "      <td>Retired</td>\n",
       "      <td>None</td>\n",
       "      <td>NaN</td>\n",
       "      <td>NaN</td>\n",
       "      <td>NaN</td>\n",
       "      <td>NaN</td>\n",
       "      <td>Bishops</td>\n",
       "      <td>True</td>\n",
       "      <td>True</td>\n",
       "      <td>False</td>\n",
       "      <td>NaN</td>\n",
       "    </tr>\n",
       "    <tr>\n",
       "      <th>1658</th>\n",
       "      <td>3906</td>\n",
       "      <td>The Lord Bishop of Gloucester</td>\n",
       "      <td>The Rt Rev. the Lord Bishop of Gloucester</td>\n",
       "      <td>M</td>\n",
       "      <td>Bishops</td>\n",
       "      <td>2</td>\n",
       "      <td>2009-10-27T00:00:00</td>\n",
       "      <td>2014-11-21T00:00:00</td>\n",
       "      <td>Retired</td>\n",
       "      <td>None</td>\n",
       "      <td>NaN</td>\n",
       "      <td>NaN</td>\n",
       "      <td>NaN</td>\n",
       "      <td>NaN</td>\n",
       "      <td>Bishops</td>\n",
       "      <td>True</td>\n",
       "      <td>True</td>\n",
       "      <td>False</td>\n",
       "      <td>NaN</td>\n",
       "    </tr>\n",
       "    <tr>\n",
       "      <th>1659</th>\n",
       "      <td>4540</td>\n",
       "      <td>The Lord Bishop of Gloucester</td>\n",
       "      <td>The Rt Rev. the Lord Bishop of Gloucester</td>\n",
       "      <td>F</td>\n",
       "      <td>Bishops</td>\n",
       "      <td>2</td>\n",
       "      <td>2015-09-07T00:00:00</td>\n",
       "      <td>None</td>\n",
       "      <td>None</td>\n",
       "      <td>None</td>\n",
       "      <td>True</td>\n",
       "      <td>Current Member</td>\n",
       "      <td>None</td>\n",
       "      <td>2015-09-07T00:00:00</td>\n",
       "      <td>Bishops</td>\n",
       "      <td>True</td>\n",
       "      <td>True</td>\n",
       "      <td>False</td>\n",
       "      <td>NaN</td>\n",
       "    </tr>\n",
       "  </tbody>\n",
       "</table>\n",
       "</div>"
      ],
      "text/plain": [
       "        id                   display_name  \\\n",
       "1656  2263  The Lord Bishop of Gloucester   \n",
       "1657  2601  The Lord Bishop of Gloucester   \n",
       "1658  3906  The Lord Bishop of Gloucester   \n",
       "1659  4540  The Lord Bishop of Gloucester   \n",
       "\n",
       "                                      full_title gender member_from  \\\n",
       "1656  The Rt Revd. the Lord Bishop of Gloucester      M     Bishops   \n",
       "1657   The Rt Rev. the Lord Bishop of Gloucester      M     Bishops   \n",
       "1658   The Rt Rev. the Lord Bishop of Gloucester      M     Bishops   \n",
       "1659   The Rt Rev. the Lord Bishop of Gloucester      F     Bishops   \n",
       "\n",
       "      member_house     membership_start       membership_end  \\\n",
       "1656             2  1981-09-30T00:00:00  1991-10-31T00:00:00   \n",
       "1657             2  1998-01-31T00:00:00  2003-12-31T00:00:00   \n",
       "1658             2  2009-10-27T00:00:00  2014-11-21T00:00:00   \n",
       "1659             2  2015-09-07T00:00:00                 None   \n",
       "\n",
       "     membership_end_reason membership_end_reason_notes status_is_active  \\\n",
       "1656               Retired                        None              NaN   \n",
       "1657               Retired                        None              NaN   \n",
       "1658               Retired                        None              NaN   \n",
       "1659                  None                        None             True   \n",
       "\n",
       "     status_description status_notes    status_start_date    party  \\\n",
       "1656                NaN          NaN                  NaN  Bishops   \n",
       "1657                NaN          NaN                  NaN  Bishops   \n",
       "1658                NaN          NaN                  NaN  Bishops   \n",
       "1659     Current Member         None  2015-09-07T00:00:00  Bishops   \n",
       "\n",
       "     party_is_lords_main party_is_lords_spiritual party_is_independent  \\\n",
       "1656                True                     True                False   \n",
       "1657                True                     True                False   \n",
       "1658                True                     True                False   \n",
       "1659                True                     True                False   \n",
       "\n",
       "      party_government_type  \n",
       "1656                    NaN  \n",
       "1657                    NaN  \n",
       "1658                    NaN  \n",
       "1659                    NaN  "
      ]
     },
     "execution_count": 17,
     "metadata": {},
     "output_type": "execute_result"
    }
   ],
   "source": [
    "members[members[\"display_name\"] == \"The Lord Bishop of Gloucester\"]"
   ]
  },
  {
   "attachments": {},
   "cell_type": "markdown",
   "metadata": {},
   "source": [
    "✏️ These aren't duplicates as they are titles that were passed on from one person to another. \n",
    "\n",
    "💡 **Katie** -- while we could rename these as The Lord Bishop of Gloucester 1, The Lord Bishop of Gloucester 2 etc to represent them as separate entities, we already have the id column performing that for us. Perhaps we leave it as is to represent their sort of a job title?"
   ]
  },
  {
   "attachments": {},
   "cell_type": "markdown",
   "metadata": {},
   "source": [
    "### Full Title"
   ]
  },
  {
   "cell_type": "code",
   "execution_count": 18,
   "metadata": {},
   "outputs": [
    {
     "data": {
      "text/plain": [
       "The Lord Sinha                          4\n",
       "His Grace the Duke of Northumberland    3\n",
       "The Rt Rev. the Lord Bishop of Derby    3\n",
       "The Lord Wolverton                      3\n",
       "The Rt Hon. the Earl of Powis           3\n",
       "                                       ..\n",
       "Rt Hon John Glen MP                     1\n",
       "The Rt Hon. the Lord Glenamara CH       1\n",
       "The Lord Glenarthur DL                  1\n",
       "The Lord Glenconner                     1\n",
       "The Lord Zuckerman                      1\n",
       "Name: full_title, Length: 4523, dtype: int64"
      ]
     },
     "execution_count": 18,
     "metadata": {},
     "output_type": "execute_result"
    }
   ],
   "source": [
    "members.full_title.value_counts()"
   ]
  },
  {
   "cell_type": "code",
   "execution_count": 20,
   "metadata": {},
   "outputs": [
    {
     "data": {
      "text/html": [
       "<div>\n",
       "<style scoped>\n",
       "    .dataframe tbody tr th:only-of-type {\n",
       "        vertical-align: middle;\n",
       "    }\n",
       "\n",
       "    .dataframe tbody tr th {\n",
       "        vertical-align: top;\n",
       "    }\n",
       "\n",
       "    .dataframe thead th {\n",
       "        text-align: right;\n",
       "    }\n",
       "</style>\n",
       "<table border=\"1\" class=\"dataframe\">\n",
       "  <thead>\n",
       "    <tr style=\"text-align: right;\">\n",
       "      <th></th>\n",
       "      <th>id</th>\n",
       "      <th>display_name</th>\n",
       "      <th>full_title</th>\n",
       "      <th>gender</th>\n",
       "      <th>member_from</th>\n",
       "      <th>member_house</th>\n",
       "      <th>membership_start</th>\n",
       "      <th>membership_end</th>\n",
       "      <th>membership_end_reason</th>\n",
       "      <th>membership_end_reason_notes</th>\n",
       "      <th>status_is_active</th>\n",
       "      <th>status_description</th>\n",
       "      <th>status_notes</th>\n",
       "      <th>status_start_date</th>\n",
       "      <th>party</th>\n",
       "      <th>party_is_lords_main</th>\n",
       "      <th>party_is_lords_spiritual</th>\n",
       "      <th>party_is_independent</th>\n",
       "      <th>party_government_type</th>\n",
       "    </tr>\n",
       "  </thead>\n",
       "  <tbody>\n",
       "    <tr>\n",
       "      <th>3983</th>\n",
       "      <td>2323</td>\n",
       "      <td>Lord Sinha</td>\n",
       "      <td>The Lord Sinha</td>\n",
       "      <td>M</td>\n",
       "      <td>Hereditary</td>\n",
       "      <td>2</td>\n",
       "      <td>1967-05-11T00:00:00</td>\n",
       "      <td>1989-01-06T00:00:00</td>\n",
       "      <td>Death</td>\n",
       "      <td>None</td>\n",
       "      <td>NaN</td>\n",
       "      <td>NaN</td>\n",
       "      <td>NaN</td>\n",
       "      <td>NaN</td>\n",
       "      <td>Non-affiliated</td>\n",
       "      <td>False</td>\n",
       "      <td>True</td>\n",
       "      <td>False</td>\n",
       "      <td>NaN</td>\n",
       "    </tr>\n",
       "    <tr>\n",
       "      <th>3984</th>\n",
       "      <td>2440</td>\n",
       "      <td>Lord Sinha</td>\n",
       "      <td>The Lord Sinha</td>\n",
       "      <td>M</td>\n",
       "      <td>Hereditary</td>\n",
       "      <td>2</td>\n",
       "      <td>1999-01-18T00:00:00</td>\n",
       "      <td>1999-11-11T00:00:00</td>\n",
       "      <td>Excluded</td>\n",
       "      <td>None</td>\n",
       "      <td>NaN</td>\n",
       "      <td>NaN</td>\n",
       "      <td>NaN</td>\n",
       "      <td>NaN</td>\n",
       "      <td>Non-affiliated</td>\n",
       "      <td>False</td>\n",
       "      <td>True</td>\n",
       "      <td>False</td>\n",
       "      <td>NaN</td>\n",
       "    </tr>\n",
       "    <tr>\n",
       "      <th>3985</th>\n",
       "      <td>2947</td>\n",
       "      <td>Lord Sinha</td>\n",
       "      <td>The Lord Sinha</td>\n",
       "      <td>M</td>\n",
       "      <td>Hereditary</td>\n",
       "      <td>2</td>\n",
       "      <td>1989-01-06T00:00:00</td>\n",
       "      <td>1992-07-25T00:00:00</td>\n",
       "      <td>Death</td>\n",
       "      <td>None</td>\n",
       "      <td>NaN</td>\n",
       "      <td>NaN</td>\n",
       "      <td>NaN</td>\n",
       "      <td>NaN</td>\n",
       "      <td>Non-affiliated</td>\n",
       "      <td>False</td>\n",
       "      <td>True</td>\n",
       "      <td>False</td>\n",
       "      <td>NaN</td>\n",
       "    </tr>\n",
       "    <tr>\n",
       "      <th>3986</th>\n",
       "      <td>3122</td>\n",
       "      <td>Lord Sinha</td>\n",
       "      <td>The Lord Sinha</td>\n",
       "      <td>M</td>\n",
       "      <td>Hereditary</td>\n",
       "      <td>2</td>\n",
       "      <td>1992-07-25T00:00:00</td>\n",
       "      <td>1999-01-19T00:00:00</td>\n",
       "      <td>Death</td>\n",
       "      <td>None</td>\n",
       "      <td>NaN</td>\n",
       "      <td>NaN</td>\n",
       "      <td>NaN</td>\n",
       "      <td>NaN</td>\n",
       "      <td>Non-affiliated</td>\n",
       "      <td>False</td>\n",
       "      <td>True</td>\n",
       "      <td>False</td>\n",
       "      <td>NaN</td>\n",
       "    </tr>\n",
       "  </tbody>\n",
       "</table>\n",
       "</div>"
      ],
      "text/plain": [
       "        id display_name      full_title gender member_from  member_house  \\\n",
       "3983  2323   Lord Sinha  The Lord Sinha      M  Hereditary             2   \n",
       "3984  2440   Lord Sinha  The Lord Sinha      M  Hereditary             2   \n",
       "3985  2947   Lord Sinha  The Lord Sinha      M  Hereditary             2   \n",
       "3986  3122   Lord Sinha  The Lord Sinha      M  Hereditary             2   \n",
       "\n",
       "         membership_start       membership_end membership_end_reason  \\\n",
       "3983  1967-05-11T00:00:00  1989-01-06T00:00:00                 Death   \n",
       "3984  1999-01-18T00:00:00  1999-11-11T00:00:00              Excluded   \n",
       "3985  1989-01-06T00:00:00  1992-07-25T00:00:00                 Death   \n",
       "3986  1992-07-25T00:00:00  1999-01-19T00:00:00                 Death   \n",
       "\n",
       "     membership_end_reason_notes status_is_active status_description  \\\n",
       "3983                        None              NaN                NaN   \n",
       "3984                        None              NaN                NaN   \n",
       "3985                        None              NaN                NaN   \n",
       "3986                        None              NaN                NaN   \n",
       "\n",
       "     status_notes status_start_date           party party_is_lords_main  \\\n",
       "3983          NaN               NaN  Non-affiliated               False   \n",
       "3984          NaN               NaN  Non-affiliated               False   \n",
       "3985          NaN               NaN  Non-affiliated               False   \n",
       "3986          NaN               NaN  Non-affiliated               False   \n",
       "\n",
       "     party_is_lords_spiritual party_is_independent  party_government_type  \n",
       "3983                     True                False                    NaN  \n",
       "3984                     True                False                    NaN  \n",
       "3985                     True                False                    NaN  \n",
       "3986                     True                False                    NaN  "
      ]
     },
     "execution_count": 20,
     "metadata": {},
     "output_type": "execute_result"
    }
   ],
   "source": [
    "members[members[\"full_title\"] == \"The Lord Sinha\"]"
   ]
  },
  {
   "attachments": {},
   "cell_type": "markdown",
   "metadata": {},
   "source": [
    "✏️ I think the same as above applies here..."
   ]
  },
  {
   "cell_type": "markdown",
   "metadata": {},
   "source": [
    "### Gender"
   ]
  },
  {
   "cell_type": "code",
   "execution_count": 23,
   "metadata": {},
   "outputs": [
    {
     "data": {
      "text/plain": [
       "M    3971\n",
       "F     792\n",
       "Name: gender, dtype: int64"
      ]
     },
     "execution_count": 23,
     "metadata": {},
     "output_type": "execute_result"
    }
   ],
   "source": [
    "members.gender.value_counts(dropna=False)"
   ]
  },
  {
   "attachments": {},
   "cell_type": "markdown",
   "metadata": {},
   "source": [
    "✏️ No NAs - good, distribution - disappointing. "
   ]
  },
  {
   "attachments": {},
   "cell_type": "markdown",
   "metadata": {},
   "source": [
    "### Member from"
   ]
  },
  {
   "cell_type": "code",
   "execution_count": 26,
   "metadata": {},
   "outputs": [
    {
     "data": {
      "text/plain": [
       "Life peer                 1378\n",
       "Hereditary                 911\n",
       "Excepted Hereditary        150\n",
       "Bishops                    124\n",
       "Life Peer (judicial)        50\n",
       "                          ... \n",
       "North East Hampshire         1\n",
       "Battersea North              1\n",
       "Orkney and Shetland          1\n",
       "Plymouth, Devonport          1\n",
       "Kenilworth and Southam       1\n",
       "Name: member_from, Length: 931, dtype: int64"
      ]
     },
     "execution_count": 26,
     "metadata": {},
     "output_type": "execute_result"
    }
   ],
   "source": [
    "members.member_from.value_counts()"
   ]
  },
  {
   "cell_type": "code",
   "execution_count": 28,
   "metadata": {},
   "outputs": [
    {
     "data": {
      "text/html": [
       "<div>\n",
       "<style scoped>\n",
       "    .dataframe tbody tr th:only-of-type {\n",
       "        vertical-align: middle;\n",
       "    }\n",
       "\n",
       "    .dataframe tbody tr th {\n",
       "        vertical-align: top;\n",
       "    }\n",
       "\n",
       "    .dataframe thead th {\n",
       "        text-align: right;\n",
       "    }\n",
       "</style>\n",
       "<table border=\"1\" class=\"dataframe\">\n",
       "  <thead>\n",
       "    <tr style=\"text-align: right;\">\n",
       "      <th></th>\n",
       "      <th>id</th>\n",
       "      <th>display_name</th>\n",
       "      <th>full_title</th>\n",
       "      <th>gender</th>\n",
       "      <th>member_from</th>\n",
       "      <th>member_house</th>\n",
       "      <th>membership_start</th>\n",
       "      <th>membership_end</th>\n",
       "      <th>membership_end_reason</th>\n",
       "      <th>membership_end_reason_notes</th>\n",
       "      <th>status_is_active</th>\n",
       "      <th>status_description</th>\n",
       "      <th>status_notes</th>\n",
       "      <th>status_start_date</th>\n",
       "      <th>party</th>\n",
       "      <th>party_is_lords_main</th>\n",
       "      <th>party_is_lords_spiritual</th>\n",
       "      <th>party_is_independent</th>\n",
       "      <th>party_government_type</th>\n",
       "    </tr>\n",
       "  </thead>\n",
       "  <tbody>\n",
       "    <tr>\n",
       "      <th>2678</th>\n",
       "      <td>2184</td>\n",
       "      <td>Lord Lucas of Chilworth</td>\n",
       "      <td>The Lord Lucas of Chilworth</td>\n",
       "      <td>M</td>\n",
       "      <td>None</td>\n",
       "      <td>2</td>\n",
       "      <td>2001-11-10T00:00:00</td>\n",
       "      <td>1999-11-11T00:00:00</td>\n",
       "      <td>Excluded</td>\n",
       "      <td>None</td>\n",
       "      <td>NaN</td>\n",
       "      <td>NaN</td>\n",
       "      <td>NaN</td>\n",
       "      <td>NaN</td>\n",
       "      <td>NaN</td>\n",
       "      <td>NaN</td>\n",
       "      <td>NaN</td>\n",
       "      <td>NaN</td>\n",
       "      <td>NaN</td>\n",
       "    </tr>\n",
       "    <tr>\n",
       "      <th>3634</th>\n",
       "      <td>3826</td>\n",
       "      <td>The Lord Rennell</td>\n",
       "      <td>The Lord Rennell</td>\n",
       "      <td>M</td>\n",
       "      <td>None</td>\n",
       "      <td>2</td>\n",
       "      <td>2006-12-09T00:00:00</td>\n",
       "      <td>1999-11-11T00:00:00</td>\n",
       "      <td>Excluded</td>\n",
       "      <td>None</td>\n",
       "      <td>NaN</td>\n",
       "      <td>NaN</td>\n",
       "      <td>NaN</td>\n",
       "      <td>NaN</td>\n",
       "      <td>NaN</td>\n",
       "      <td>NaN</td>\n",
       "      <td>NaN</td>\n",
       "      <td>NaN</td>\n",
       "      <td>NaN</td>\n",
       "    </tr>\n",
       "    <tr>\n",
       "      <th>4311</th>\n",
       "      <td>3802</td>\n",
       "      <td>Lord Thomson of Fleet</td>\n",
       "      <td>Lord Thomson of Fleet</td>\n",
       "      <td>M</td>\n",
       "      <td>None</td>\n",
       "      <td>2</td>\n",
       "      <td>2006-06-12T00:00:00</td>\n",
       "      <td>1999-11-11T00:00:00</td>\n",
       "      <td>Excluded</td>\n",
       "      <td>None</td>\n",
       "      <td>NaN</td>\n",
       "      <td>NaN</td>\n",
       "      <td>NaN</td>\n",
       "      <td>NaN</td>\n",
       "      <td>NaN</td>\n",
       "      <td>NaN</td>\n",
       "      <td>NaN</td>\n",
       "      <td>NaN</td>\n",
       "      <td>NaN</td>\n",
       "    </tr>\n",
       "  </tbody>\n",
       "</table>\n",
       "</div>"
      ],
      "text/plain": [
       "        id             display_name                   full_title gender  \\\n",
       "2678  2184  Lord Lucas of Chilworth  The Lord Lucas of Chilworth      M   \n",
       "3634  3826         The Lord Rennell             The Lord Rennell      M   \n",
       "4311  3802    Lord Thomson of Fleet        Lord Thomson of Fleet      M   \n",
       "\n",
       "     member_from  member_house     membership_start       membership_end  \\\n",
       "2678        None             2  2001-11-10T00:00:00  1999-11-11T00:00:00   \n",
       "3634        None             2  2006-12-09T00:00:00  1999-11-11T00:00:00   \n",
       "4311        None             2  2006-06-12T00:00:00  1999-11-11T00:00:00   \n",
       "\n",
       "     membership_end_reason membership_end_reason_notes status_is_active  \\\n",
       "2678              Excluded                        None              NaN   \n",
       "3634              Excluded                        None              NaN   \n",
       "4311              Excluded                        None              NaN   \n",
       "\n",
       "     status_description status_notes status_start_date party  \\\n",
       "2678                NaN          NaN               NaN   NaN   \n",
       "3634                NaN          NaN               NaN   NaN   \n",
       "4311                NaN          NaN               NaN   NaN   \n",
       "\n",
       "     party_is_lords_main party_is_lords_spiritual party_is_independent  \\\n",
       "2678                 NaN                      NaN                  NaN   \n",
       "3634                 NaN                      NaN                  NaN   \n",
       "4311                 NaN                      NaN                  NaN   \n",
       "\n",
       "      party_government_type  \n",
       "2678                    NaN  \n",
       "3634                    NaN  \n",
       "4311                    NaN  "
      ]
     },
     "execution_count": 28,
     "metadata": {},
     "output_type": "execute_result"
    }
   ],
   "source": [
    "members[members['member_from'].isna() == True]"
   ]
  },
  {
   "attachments": {},
   "cell_type": "markdown",
   "metadata": {},
   "source": [
    "🚨 **Katie** -- should we drop these?"
   ]
  },
  {
   "attachments": {},
   "cell_type": "markdown",
   "metadata": {},
   "source": [
    "### Member house"
   ]
  },
  {
   "cell_type": "code",
   "execution_count": 31,
   "metadata": {},
   "outputs": [
    {
     "data": {
      "text/plain": [
       "2    2634\n",
       "1    2129\n",
       "Name: member_house, dtype: int64"
      ]
     },
     "execution_count": 31,
     "metadata": {},
     "output_type": "execute_result"
    }
   ],
   "source": [
    "members.member_house.value_counts(dropna=False)"
   ]
  },
  {
   "attachments": {},
   "cell_type": "markdown",
   "metadata": {},
   "source": [
    "✏️ No NAs - good.\n",
    "\n",
    "💡 **Katie** -- one is Lords, one is Commons perhaps? Need to find out for data dictionary"
   ]
  },
  {
   "attachments": {},
   "cell_type": "markdown",
   "metadata": {},
   "source": [
    "### Membership start, end & membership status"
   ]
  },
  {
   "cell_type": "code",
   "execution_count": 40,
   "metadata": {},
   "outputs": [
    {
     "name": "stdout",
     "output_type": "stream",
     "text": [
      "0\n",
      "1471\n"
     ]
    }
   ],
   "source": [
    "print(len(members[members['membership_start'].isna() == True]))\n",
    "print(len(members[members['membership_end'].isna() == True]))"
   ]
  },
  {
   "attachments": {},
   "cell_type": "markdown",
   "metadata": {},
   "source": [
    "✏️ No NAs for membership start - good. NAs for membership end must mean they are currently active? Checking:"
   ]
  },
  {
   "cell_type": "code",
   "execution_count": 36,
   "metadata": {},
   "outputs": [
    {
     "data": {
      "text/plain": [
       "NaN      3292\n",
       "True     1426\n",
       "False      45\n",
       "Name: status_is_active, dtype: int64"
      ]
     },
     "execution_count": 36,
     "metadata": {},
     "output_type": "execute_result"
    }
   ],
   "source": [
    "members.status_is_active.value_counts(dropna=False)"
   ]
  },
  {
   "cell_type": "code",
   "execution_count": 39,
   "metadata": {},
   "outputs": [
    {
     "data": {
      "text/plain": [
       "NaN                 3292\n",
       "Current Member      1426\n",
       "Leave of Absence      39\n",
       "Disqualified           3\n",
       "Suspended              3\n",
       "Name: status_description, dtype: int64"
      ]
     },
     "execution_count": 39,
     "metadata": {},
     "output_type": "execute_result"
    }
   ],
   "source": [
    "members.status_description.value_counts(dropna=False)"
   ]
  },
  {
   "cell_type": "code",
   "execution_count": 41,
   "metadata": {},
   "outputs": [
    {
     "data": {
      "text/plain": [
       "NaN                        3292\n",
       "None                       1465\n",
       "Member of the Judiciary       3\n",
       "Suspended                     3\n",
       "Name: status_notes, dtype: int64"
      ]
     },
     "execution_count": 41,
     "metadata": {},
     "output_type": "execute_result"
    }
   ],
   "source": [
    "members.status_notes.value_counts(dropna=False)"
   ]
  },
  {
   "cell_type": "code",
   "execution_count": 42,
   "metadata": {},
   "outputs": [
    {
     "data": {
      "text/plain": [
       "None                        2289\n",
       "Death                       1016\n",
       "Excluded                     629\n",
       "Retired                      445\n",
       "Defeated                     254\n",
       "Standing Down                 63\n",
       "General Election              24\n",
       "Resignation (Northstead)      15\n",
       "Resignation (Chiltern)        15\n",
       "Non-attendance                 8\n",
       "Recall Petition                2\n",
       "Resigned                       1\n",
       "Election petition              1\n",
       "Deselected                     1\n",
       "Name: membership_end_reason, dtype: int64"
      ]
     },
     "execution_count": 42,
     "metadata": {},
     "output_type": "execute_result"
    }
   ],
   "source": [
    "members.membership_end_reason.value_counts(dropna=False)"
   ]
  },
  {
   "cell_type": "code",
   "execution_count": 44,
   "metadata": {},
   "outputs": [
    {
     "data": {
      "text/plain": [
       "None                                                                                               4450\n",
       "Dissolution of Parliament                                                                           143\n",
       "Retired under the House of Lords Reform Act 2014                                                    108\n",
       "House of Lords Reform Act 2014                                                                        3\n",
       "Resigned under the Constitutional Reform and Governance Act 2010                                      3\n",
       "                                                                                                   ... \n",
       "Became London Mayor 08/05/16                                                                          1\n",
       "Retired under the House of Lords Reform Act 2014 [Baroness Lockwood died on 29 April 2019]            1\n",
       "Retired under the House of Lords Reform Act 2014\\n \\n[Lord Luke died on 2 October 2015]               1\n",
       "Mr. Adams refused to accept the office of Crown Steward and Bailiff of the Manor of Northstead.       1\n",
       "Member did not attend during session 2016–17                                                          1\n",
       "Name: membership_end_reason_notes, Length: 61, dtype: int64"
      ]
     },
     "execution_count": 44,
     "metadata": {},
     "output_type": "execute_result"
    }
   ],
   "source": [
    "members.membership_end_reason_notes.value_counts(dropna=False)"
   ]
  },
  {
   "attachments": {},
   "cell_type": "markdown",
   "metadata": {},
   "source": [
    "💡 **Katie** -- these columns... Perhaps, we:\n",
    "1. Make a *membership_duration* column, \n",
    "2. Join the five above into one? With potential labels as the following:\n",
    "- status description = current member / active for those that are current members, \n",
    "- inactive - leave of absence \n",
    "- inactive - disqualified\n",
    "- inactive - suspended\n",
    "- inactive - membership_end_reason values (+ membership_end_reason_notes) for those that don't fall under any of the above but have clear membership start and end dates? \n",
    "3. Drop *status_notes*, *status_description*, *status_is_active*, *membership_end_reason*, *membership_end_reason_notes* (+ status_start_date ?)"
   ]
  },
  {
   "cell_type": "markdown",
   "metadata": {},
   "source": [
    "### Party"
   ]
  },
  {
   "cell_type": "code",
   "execution_count": 46,
   "metadata": {},
   "outputs": [
    {
     "data": {
      "text/plain": [
       "Conservative                        1779\n",
       "Labour                              1194\n",
       "Crossbench                           652\n",
       "Liberal Democrat                     273\n",
       "Other                                233\n",
       "Non-affiliated                       136\n",
       "Bishops                              124\n",
       "Scottish National Party               79\n",
       "Independent                           66\n",
       "Labour (Co-op)                        58\n",
       "Social Democratic Party               22\n",
       "Democratic Unionist Party             22\n",
       "Ulster Unionist Party                 21\n",
       "Sinn Féin                             14\n",
       "Liberal                               12\n",
       "Plaid Cymru                           11\n",
       "Independent Labour                     9\n",
       "Social Democratic & Labour Party       8\n",
       "Independent Conservative               7\n",
       "Not known                              5\n",
       "The Independent Group for Change       5\n",
       "Green Party                            4\n",
       "NaN                                    3\n",
       "Alliance                               3\n",
       "Alba Party                             2\n",
       "Independent Socialist                  2\n",
       "Anti H Block                           2\n",
       "Opposition Unity                       2\n",
       "Speaker                                2\n",
       "Independent SDP                        2\n",
       "United Ulster Unionist Party           1\n",
       "Respect                                1\n",
       "Referendum                             1\n",
       "National Liberal & Conservative        1\n",
       "Ulster Popular Unionist Party          1\n",
       "Independent Ulster Unionist            1\n",
       "United Kingdom Unionist                1\n",
       "Lord Speaker                           1\n",
       "Independent Social Democrat            1\n",
       "UK Independence Party                  1\n",
       "Conservative Independent               1\n",
       "Name: party, dtype: int64"
      ]
     },
     "execution_count": 46,
     "metadata": {},
     "output_type": "execute_result"
    }
   ],
   "source": [
    "members.party.value_counts(dropna=False)"
   ]
  },
  {
   "attachments": {},
   "cell_type": "markdown",
   "metadata": {},
   "source": [
    "✏️ Dropping NAs:"
   ]
  },
  {
   "cell_type": "code",
   "execution_count": 56,
   "metadata": {},
   "outputs": [],
   "source": [
    "members = members[members.party.isna() == False]"
   ]
  },
  {
   "cell_type": "markdown",
   "metadata": {},
   "source": [
    "### Party_is_lords_main / party_is_lords_spiritual / party_is_independent / party_government_type"
   ]
  },
  {
   "cell_type": "code",
   "execution_count": 51,
   "metadata": {},
   "outputs": [
    {
     "data": {
      "text/plain": [
       "True     4086\n",
       "False     674\n",
       "Name: party_is_lords_main, dtype: int64"
      ]
     },
     "execution_count": 51,
     "metadata": {},
     "output_type": "execute_result"
    }
   ],
   "source": [
    "members.party_is_lords_main.value_counts(dropna=False)"
   ]
  },
  {
   "cell_type": "code",
   "execution_count": 52,
   "metadata": {},
   "outputs": [
    {
     "data": {
      "text/plain": [
       "True     2736\n",
       "False    2024\n",
       "Name: party_is_lords_spiritual, dtype: int64"
      ]
     },
     "execution_count": 52,
     "metadata": {},
     "output_type": "execute_result"
    }
   ],
   "source": [
    "members.party_is_lords_spiritual.value_counts(dropna=False)"
   ]
  },
  {
   "cell_type": "code",
   "execution_count": 53,
   "metadata": {},
   "outputs": [
    {
     "data": {
      "text/plain": [
       "False    4694\n",
       "True       66\n",
       "Name: party_is_independent, dtype: int64"
      ]
     },
     "execution_count": 53,
     "metadata": {},
     "output_type": "execute_result"
    }
   ],
   "source": [
    "members.party_is_independent.value_counts(dropna=False)"
   ]
  },
  {
   "cell_type": "markdown",
   "metadata": {},
   "source": [
    "✏️ I don't know what these mean but no NAs - good."
   ]
  },
  {
   "cell_type": "code",
   "execution_count": 54,
   "metadata": {},
   "outputs": [
    {
     "data": {
      "text/plain": [
       "0.0    1779\n",
       "NaN    1729\n",
       "3.0    1252\n",
       "Name: party_government_type, dtype: int64"
      ]
     },
     "execution_count": 54,
     "metadata": {},
     "output_type": "execute_result"
    }
   ],
   "source": [
    "members.party_government_type.value_counts(dropna=False)"
   ]
  },
  {
   "attachments": {},
   "cell_type": "markdown",
   "metadata": {},
   "source": [
    "💡 **Katie** -- No idea what this means / what insight it would bring. Should we drop this column?"
   ]
  },
  {
   "cell_type": "markdown",
   "metadata": {},
   "source": [
    "# Votes Dataframe"
   ]
  },
  {
   "cell_type": "code",
   "execution_count": 59,
   "metadata": {},
   "outputs": [
    {
     "name": "stdout",
     "output_type": "stream",
     "text": [
      "<class 'pandas.core.frame.DataFrame'>\n",
      "RangeIndex: 111692 entries, 0 to 111691\n",
      "Data columns (total 7 columns):\n",
      " #   Column             Non-Null Count   Dtype \n",
      "---  ------             --------------   ----- \n",
      " 0   member_id          111692 non-null  object\n",
      " 1   vote_title         111692 non-null  object\n",
      " 2   vote_date          111692 non-null  object\n",
      " 3   aye_count          111692 non-null  object\n",
      " 4   no_count           111692 non-null  object\n",
      " 5   member_voted_aye   111692 non-null  object\n",
      " 6   member_was_teller  111692 non-null  object\n",
      "dtypes: object(7)\n",
      "memory usage: 6.0+ MB\n"
     ]
    }
   ],
   "source": [
    "votes = pd.read_pickle(\"../Data-Acquisition/votes.pkl\")\n",
    "votes.info()"
   ]
  },
  {
   "cell_type": "code",
   "execution_count": 60,
   "metadata": {},
   "outputs": [
    {
     "data": {
      "text/html": [
       "<div>\n",
       "<style scoped>\n",
       "    .dataframe tbody tr th:only-of-type {\n",
       "        vertical-align: middle;\n",
       "    }\n",
       "\n",
       "    .dataframe tbody tr th {\n",
       "        vertical-align: top;\n",
       "    }\n",
       "\n",
       "    .dataframe thead th {\n",
       "        text-align: right;\n",
       "    }\n",
       "</style>\n",
       "<table border=\"1\" class=\"dataframe\">\n",
       "  <thead>\n",
       "    <tr style=\"text-align: right;\">\n",
       "      <th></th>\n",
       "      <th>member_id</th>\n",
       "      <th>vote_title</th>\n",
       "      <th>vote_date</th>\n",
       "      <th>aye_count</th>\n",
       "      <th>no_count</th>\n",
       "      <th>member_voted_aye</th>\n",
       "      <th>member_was_teller</th>\n",
       "    </tr>\n",
       "  </thead>\n",
       "  <tbody>\n",
       "    <tr>\n",
       "      <th>0</th>\n",
       "      <td>4212</td>\n",
       "      <td>Finance (No2) Bill Reasoned Amendment</td>\n",
       "      <td>2023-03-29T18:03:00</td>\n",
       "      <td>211</td>\n",
       "      <td>289</td>\n",
       "      <td>True</td>\n",
       "      <td>False</td>\n",
       "    </tr>\n",
       "    <tr>\n",
       "      <th>1</th>\n",
       "      <td>4212</td>\n",
       "      <td>Illegal Migration Bill: Committee of the whole...</td>\n",
       "      <td>2023-03-28T20:37:00</td>\n",
       "      <td>248</td>\n",
       "      <td>301</td>\n",
       "      <td>True</td>\n",
       "      <td>False</td>\n",
       "    </tr>\n",
       "    <tr>\n",
       "      <th>2</th>\n",
       "      <td>4212</td>\n",
       "      <td>Illegal Migration Bill: Committee of the whole...</td>\n",
       "      <td>2023-03-28T20:25:00</td>\n",
       "      <td>249</td>\n",
       "      <td>301</td>\n",
       "      <td>True</td>\n",
       "      <td>False</td>\n",
       "    </tr>\n",
       "    <tr>\n",
       "      <th>3</th>\n",
       "      <td>4212</td>\n",
       "      <td>Illegal Migration Bill: Committee of the whole...</td>\n",
       "      <td>2023-03-28T20:13:00</td>\n",
       "      <td>248</td>\n",
       "      <td>299</td>\n",
       "      <td>True</td>\n",
       "      <td>False</td>\n",
       "    </tr>\n",
       "    <tr>\n",
       "      <th>4</th>\n",
       "      <td>4212</td>\n",
       "      <td>Illegal Migration Bill: Committee of the whole...</td>\n",
       "      <td>2023-03-28T20:01:00</td>\n",
       "      <td>302</td>\n",
       "      <td>242</td>\n",
       "      <td>False</td>\n",
       "      <td>False</td>\n",
       "    </tr>\n",
       "  </tbody>\n",
       "</table>\n",
       "</div>"
      ],
      "text/plain": [
       "  member_id                                         vote_title  \\\n",
       "0      4212              Finance (No2) Bill Reasoned Amendment   \n",
       "1      4212  Illegal Migration Bill: Committee of the whole...   \n",
       "2      4212  Illegal Migration Bill: Committee of the whole...   \n",
       "3      4212  Illegal Migration Bill: Committee of the whole...   \n",
       "4      4212  Illegal Migration Bill: Committee of the whole...   \n",
       "\n",
       "             vote_date aye_count no_count member_voted_aye member_was_teller  \n",
       "0  2023-03-29T18:03:00       211      289             True             False  \n",
       "1  2023-03-28T20:37:00       248      301             True             False  \n",
       "2  2023-03-28T20:25:00       249      301             True             False  \n",
       "3  2023-03-28T20:13:00       248      299             True             False  \n",
       "4  2023-03-28T20:01:00       302      242            False             False  "
      ]
     },
     "execution_count": 60,
     "metadata": {},
     "output_type": "execute_result"
    }
   ],
   "source": [
    "votes.head()"
   ]
  },
  {
   "cell_type": "code",
   "execution_count": 62,
   "metadata": {},
   "outputs": [
    {
     "data": {
      "text/plain": [
       "Finance Bill: Third Reading                                                             292\n",
       "Motion to sit in private                                                                252\n",
       "Business of the House motion                                                            208\n",
       "UK's withdrawal from the EU: Mr Corbyn's amendment (a)                                  189\n",
       "Trade Bill: Second Reading                                                              189\n",
       "                                                                                       ... \n",
       "Copyright (Rights and Remuneration of Musicians, Etc.) Bill: Second Reading: Closure      9\n",
       "Mental Health Units (Use of Force) Bill report stage: Amendment 12                        8\n",
       "Mental Health Units (Use of Force) Bill report stage: Amendment 11                        8\n",
       "Ten Minute Rule Bill: Recall of MPs (Change of Party Affiliation)                         7\n",
       "Motion to sit in private                                                                  2\n",
       "Name: vote_title, Length: 1449, dtype: int64"
      ]
     },
     "execution_count": 62,
     "metadata": {},
     "output_type": "execute_result"
    }
   ],
   "source": [
    "votes.vote_title.value_counts()"
   ]
  },
  {
   "attachments": {},
   "cell_type": "markdown",
   "metadata": {},
   "source": [
    "💡 **Katie** -- Ed and I were discussing that it would be interesting to potentially treat this as an NLP column to uncover insights into what kinds of topics certain members tend to aye/nay :)"
   ]
  },
  {
   "attachments": {},
   "cell_type": "markdown",
   "metadata": {},
   "source": [
    "# Written Statements"
   ]
  },
  {
   "cell_type": "code",
   "execution_count": 64,
   "metadata": {},
   "outputs": [
    {
     "name": "stdout",
     "output_type": "stream",
     "text": [
      "<class 'pandas.core.frame.DataFrame'>\n",
      "RangeIndex: 6255 entries, 0 to 6254\n",
      "Data columns (total 10 columns):\n",
      " #   Column               Non-Null Count  Dtype \n",
      "---  ------               --------------  ----- \n",
      " 0   statement_id         6255 non-null   int64 \n",
      " 1   statement_title      6255 non-null   object\n",
      " 2   statement_text       6255 non-null   object\n",
      " 3   member_id            6255 non-null   int64 \n",
      " 4   member_name          0 non-null      object\n",
      " 5   member_role          6255 non-null   object\n",
      " 6   statement_date       6255 non-null   object\n",
      " 7   answering_body_id    6255 non-null   int64 \n",
      " 8   answering_body_name  6255 non-null   int64 \n",
      " 9   house                6255 non-null   object\n",
      "dtypes: int64(4), object(6)\n",
      "memory usage: 488.8+ KB\n"
     ]
    }
   ],
   "source": [
    "statements = pd.read_pickle(\"../Data-Acquisition/written_statements.pkl\")\n",
    "statements.info()"
   ]
  },
  {
   "attachments": {},
   "cell_type": "markdown",
   "metadata": {},
   "source": [
    "✏️ Dropping empty column member_name: "
   ]
  },
  {
   "cell_type": "code",
   "execution_count": 68,
   "metadata": {},
   "outputs": [],
   "source": [
    "statements = statements.drop(columns=\"member_name\")"
   ]
  }
 ],
 "metadata": {
  "kernelspec": {
   "display_name": "Python 3",
   "language": "python",
   "name": "python3"
  },
  "language_info": {
   "codemirror_mode": {
    "name": "ipython",
    "version": 3
   },
   "file_extension": ".py",
   "mimetype": "text/x-python",
   "name": "python",
   "nbconvert_exporter": "python",
   "pygments_lexer": "ipython3",
   "version": "3.11.2"
  },
  "orig_nbformat": 4
 },
 "nbformat": 4,
 "nbformat_minor": 2
}
